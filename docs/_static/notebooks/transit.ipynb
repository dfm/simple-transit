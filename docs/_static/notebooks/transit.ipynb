{
 "cells": [
  {
   "cell_type": "code",
   "execution_count": 1,
   "metadata": {},
   "outputs": [],
   "source": [
    "%matplotlib inline"
   ]
  },
  {
   "cell_type": "markdown",
   "metadata": {},
   "source": [
    "# Transit fitting"
   ]
  },
  {
   "cell_type": "code",
   "execution_count": 2,
   "metadata": {},
   "outputs": [
    {
     "name": "stdout",
     "output_type": "stream",
     "text": [
      "theano version: 1.0.4\n"
     ]
    },
    {
     "name": "stdout",
     "output_type": "stream",
     "text": [
      "pymc3 version: 3.7\n"
     ]
    },
    {
     "name": "stdout",
     "output_type": "stream",
     "text": [
      "exoplanet version: 0.2.0\n"
     ]
    }
   ],
   "source": [
    "%run notebook_setup"
   ]
  },
  {
   "cell_type": "markdown",
   "metadata": {},
   "source": [
    "*exoplanet* includes methods for computing the light curves transiting planets.\n",
    "In its simplest form this can be used to evaluate a light curve like you would do with [batman](https://astro.uchicago.edu/~kreidberg/batman/), for example:"
   ]
  },
  {
   "cell_type": "code",
   "execution_count": 3,
   "metadata": {},
   "outputs": [
    {
     "name": "stderr",
     "output_type": "stream",
     "text": [
      "ERROR (theano.gof.opt): Optimization failure due to: constant_folding\n"
     ]
    },
    {
     "name": "stderr",
     "output_type": "stream",
     "text": [
      "ERROR (theano.gof.opt): node: IntegratedLimbDarkOp(TensorConstant{[ 0.146912...01836403]}, TensorConstant{(1, 1000) of 0.02}, TensorConstant{[[0.764   ..964     ]]}, TensorConstant{(1,) of 0.1}, TensorConstant{1.81805130416076}, TensorConstant{-9.61952468132868}, TensorConstant{1.0}, TensorConstant{0.0}, TensorConstant{0.0}, TensorConstant{0.0}, TensorConstant{0.0})\n"
     ]
    },
    {
     "name": "stderr",
     "output_type": "stream",
     "text": [
      "ERROR (theano.gof.opt): TRACEBACK:\n"
     ]
    },
    {
     "name": "stderr",
     "output_type": "stream",
     "text": [
      "ERROR (theano.gof.opt): Traceback (most recent call last):\n",
      "  File \"/mnt/home/dforeman/miniconda3/envs/autoexoplanet/lib/python3.7/site-packages/theano/gof/opt.py\", line 2034, in process_node\n",
      "    replacements = lopt.transform(node)\n",
      "  File \"/mnt/home/dforeman/miniconda3/envs/autoexoplanet/lib/python3.7/site-packages/theano/tensor/opt.py\", line 6518, in constant_folding\n",
      "    required = thunk()\n",
      "  File \"/mnt/home/dforeman/miniconda3/envs/autoexoplanet/lib/python3.7/site-packages/theano/gof/op.py\", line 862, in rval\n",
      "    thunk()\n",
      "  File \"/mnt/home/dforeman/miniconda3/envs/autoexoplanet/lib/python3.7/site-packages/theano/gof/cc.py\", line 1739, in __call__\n",
      "    reraise(exc_type, exc_value, exc_trace)\n",
      "  File \"/mnt/home/dforeman/miniconda3/envs/autoexoplanet/lib/python3.7/site-packages/six.py\", line 693, in reraise\n",
      "    raise value\n",
      "ValueError: dimension mismatch\n",
      "\n"
     ]
    },
    {
     "name": "stderr",
     "output_type": "stream",
     "text": [
      "ERROR (theano.gof.opt): Optimization failure due to: constant_folding\n"
     ]
    },
    {
     "name": "stderr",
     "output_type": "stream",
     "text": [
      "ERROR (theano.gof.opt): node: IntegratedLimbDarkOp(TensorConstant{[ 0.146912...01836403]}, TensorConstant{(1, 1000) of 0.02}, TensorConstant{[[0.764   ..964     ]]}, TensorConstant{(1,) of 0.1}, TensorConstant{1.81805130416076}, TensorConstant{-9.61952468132868}, TensorConstant{1.0}, TensorConstant{0.0}, TensorConstant{0.0}, TensorConstant{0.0}, TensorConstant{0.0})\n"
     ]
    },
    {
     "name": "stderr",
     "output_type": "stream",
     "text": [
      "ERROR (theano.gof.opt): TRACEBACK:\n"
     ]
    },
    {
     "name": "stderr",
     "output_type": "stream",
     "text": [
      "ERROR (theano.gof.opt): Traceback (most recent call last):\n",
      "  File \"/mnt/home/dforeman/miniconda3/envs/autoexoplanet/lib/python3.7/site-packages/theano/gof/opt.py\", line 2034, in process_node\n",
      "    replacements = lopt.transform(node)\n",
      "  File \"/mnt/home/dforeman/miniconda3/envs/autoexoplanet/lib/python3.7/site-packages/theano/tensor/opt.py\", line 6518, in constant_folding\n",
      "    required = thunk()\n",
      "  File \"/mnt/home/dforeman/miniconda3/envs/autoexoplanet/lib/python3.7/site-packages/theano/gof/op.py\", line 862, in rval\n",
      "    thunk()\n",
      "  File \"/mnt/home/dforeman/miniconda3/envs/autoexoplanet/lib/python3.7/site-packages/theano/gof/cc.py\", line 1739, in __call__\n",
      "    reraise(exc_type, exc_value, exc_trace)\n",
      "  File \"/mnt/home/dforeman/miniconda3/envs/autoexoplanet/lib/python3.7/site-packages/six.py\", line 693, in reraise\n",
      "    raise value\n",
      "ValueError: dimension mismatch\n",
      "\n"
     ]
    },
    {
     "name": "stderr",
     "output_type": "stream",
     "text": [
      "ERROR (theano.gof.opt): Optimization failure due to: constant_folding\n"
     ]
    },
    {
     "name": "stderr",
     "output_type": "stream",
     "text": [
      "ERROR (theano.gof.opt): node: IntegratedLimbDarkOp(TensorConstant{[ 0.146912...01836403]}, TensorConstant{(1, 1000) of 0.02}, TensorConstant{[[0.764   ..964     ]]}, TensorConstant{(1,) of 0.1}, TensorConstant{1.81805130416076}, TensorConstant{-9.61952468132868}, TensorConstant{1.0}, TensorConstant{0.0}, TensorConstant{0.0}, TensorConstant{0.0}, TensorConstant{0.0})\n"
     ]
    },
    {
     "name": "stderr",
     "output_type": "stream",
     "text": [
      "ERROR (theano.gof.opt): TRACEBACK:\n"
     ]
    },
    {
     "name": "stderr",
     "output_type": "stream",
     "text": [
      "ERROR (theano.gof.opt): Traceback (most recent call last):\n",
      "  File \"/mnt/home/dforeman/miniconda3/envs/autoexoplanet/lib/python3.7/site-packages/theano/gof/opt.py\", line 2034, in process_node\n",
      "    replacements = lopt.transform(node)\n",
      "  File \"/mnt/home/dforeman/miniconda3/envs/autoexoplanet/lib/python3.7/site-packages/theano/tensor/opt.py\", line 6518, in constant_folding\n",
      "    required = thunk()\n",
      "  File \"/mnt/home/dforeman/miniconda3/envs/autoexoplanet/lib/python3.7/site-packages/theano/gof/op.py\", line 862, in rval\n",
      "    thunk()\n",
      "  File \"/mnt/home/dforeman/miniconda3/envs/autoexoplanet/lib/python3.7/site-packages/theano/gof/cc.py\", line 1739, in __call__\n",
      "    reraise(exc_type, exc_value, exc_trace)\n",
      "  File \"/mnt/home/dforeman/miniconda3/envs/autoexoplanet/lib/python3.7/site-packages/six.py\", line 693, in reraise\n",
      "    raise value\n",
      "ValueError: dimension mismatch\n",
      "\n"
     ]
    },
    {
     "name": "stderr",
     "output_type": "stream",
     "text": [
      "ERROR (theano.gof.opt): Optimization failure due to: constant_folding\n"
     ]
    },
    {
     "name": "stderr",
     "output_type": "stream",
     "text": [
      "ERROR (theano.gof.opt): node: IntegratedLimbDarkOp(TensorConstant{[ 0.146912...01836403]}, TensorConstant{(1, 1000) of 0.02}, TensorConstant{[[0.764   ..964     ]]}, TensorConstant{(1,) of 0.1}, TensorConstant{1.81805130416076}, TensorConstant{-9.61952468132868}, TensorConstant{1.0}, TensorConstant{0.0}, TensorConstant{0.0}, TensorConstant{0.0}, TensorConstant{0.0})\n"
     ]
    },
    {
     "name": "stderr",
     "output_type": "stream",
     "text": [
      "ERROR (theano.gof.opt): TRACEBACK:\n"
     ]
    },
    {
     "name": "stderr",
     "output_type": "stream",
     "text": [
      "ERROR (theano.gof.opt): Traceback (most recent call last):\n",
      "  File \"/mnt/home/dforeman/miniconda3/envs/autoexoplanet/lib/python3.7/site-packages/theano/gof/opt.py\", line 2034, in process_node\n",
      "    replacements = lopt.transform(node)\n",
      "  File \"/mnt/home/dforeman/miniconda3/envs/autoexoplanet/lib/python3.7/site-packages/theano/tensor/opt.py\", line 6518, in constant_folding\n",
      "    required = thunk()\n",
      "  File \"/mnt/home/dforeman/miniconda3/envs/autoexoplanet/lib/python3.7/site-packages/theano/gof/op.py\", line 862, in rval\n",
      "    thunk()\n",
      "  File \"/mnt/home/dforeman/miniconda3/envs/autoexoplanet/lib/python3.7/site-packages/theano/gof/cc.py\", line 1739, in __call__\n",
      "    reraise(exc_type, exc_value, exc_trace)\n",
      "  File \"/mnt/home/dforeman/miniconda3/envs/autoexoplanet/lib/python3.7/site-packages/six.py\", line 693, in reraise\n",
      "    raise value\n",
      "ValueError: dimension mismatch\n",
      "\n"
     ]
    },
    {
     "name": "stderr",
     "output_type": "stream",
     "text": [
      "ERROR (theano.gof.opt): Optimization failure due to: constant_folding\n"
     ]
    },
    {
     "name": "stderr",
     "output_type": "stream",
     "text": [
      "ERROR (theano.gof.opt): node: IntegratedLimbDarkOp(TensorConstant{[ 0.146912...01836403]}, TensorConstant{(1, 1000) of 0.02}, TensorConstant{[[0.764   ..964     ]]}, TensorConstant{(1,) of 0.1}, TensorConstant{1.81805130416076}, TensorConstant{-9.61952468132868}, TensorConstant{1.0}, TensorConstant{0.0}, TensorConstant{0.0}, TensorConstant{0.0}, TensorConstant{0.0})\n"
     ]
    },
    {
     "name": "stderr",
     "output_type": "stream",
     "text": [
      "ERROR (theano.gof.opt): TRACEBACK:\n"
     ]
    },
    {
     "name": "stderr",
     "output_type": "stream",
     "text": [
      "ERROR (theano.gof.opt): Traceback (most recent call last):\n",
      "  File \"/mnt/home/dforeman/miniconda3/envs/autoexoplanet/lib/python3.7/site-packages/theano/gof/opt.py\", line 2034, in process_node\n",
      "    replacements = lopt.transform(node)\n",
      "  File \"/mnt/home/dforeman/miniconda3/envs/autoexoplanet/lib/python3.7/site-packages/theano/tensor/opt.py\", line 6518, in constant_folding\n",
      "    required = thunk()\n",
      "  File \"/mnt/home/dforeman/miniconda3/envs/autoexoplanet/lib/python3.7/site-packages/theano/gof/op.py\", line 862, in rval\n",
      "    thunk()\n",
      "  File \"/mnt/home/dforeman/miniconda3/envs/autoexoplanet/lib/python3.7/site-packages/theano/gof/cc.py\", line 1739, in __call__\n",
      "    reraise(exc_type, exc_value, exc_trace)\n",
      "  File \"/mnt/home/dforeman/miniconda3/envs/autoexoplanet/lib/python3.7/site-packages/six.py\", line 693, in reraise\n",
      "    raise value\n",
      "ValueError: dimension mismatch\n",
      "\n"
     ]
    },
    {
     "name": "stderr",
     "output_type": "stream",
     "text": [
      "ERROR (theano.gof.opt): Optimization failure due to: constant_folding\n"
     ]
    },
    {
     "name": "stderr",
     "output_type": "stream",
     "text": [
      "ERROR (theano.gof.opt): node: IntegratedLimbDarkOp(TensorConstant{[ 0.146912...01836403]}, TensorConstant{(1, 1000) of 0.02}, TensorConstant{[[0.764   ..964     ]]}, TensorConstant{(1,) of 0.1}, TensorConstant{1.81805130416076}, TensorConstant{-9.61952468132868}, TensorConstant{1.0}, TensorConstant{0.0}, TensorConstant{0.0}, TensorConstant{0.0}, TensorConstant{0.0})\n"
     ]
    },
    {
     "name": "stderr",
     "output_type": "stream",
     "text": [
      "ERROR (theano.gof.opt): TRACEBACK:\n"
     ]
    },
    {
     "name": "stderr",
     "output_type": "stream",
     "text": [
      "ERROR (theano.gof.opt): Traceback (most recent call last):\n",
      "  File \"/mnt/home/dforeman/miniconda3/envs/autoexoplanet/lib/python3.7/site-packages/theano/gof/opt.py\", line 2034, in process_node\n",
      "    replacements = lopt.transform(node)\n",
      "  File \"/mnt/home/dforeman/miniconda3/envs/autoexoplanet/lib/python3.7/site-packages/theano/tensor/opt.py\", line 6518, in constant_folding\n",
      "    required = thunk()\n",
      "  File \"/mnt/home/dforeman/miniconda3/envs/autoexoplanet/lib/python3.7/site-packages/theano/gof/op.py\", line 862, in rval\n",
      "    thunk()\n",
      "  File \"/mnt/home/dforeman/miniconda3/envs/autoexoplanet/lib/python3.7/site-packages/theano/gof/cc.py\", line 1739, in __call__\n",
      "    reraise(exc_type, exc_value, exc_trace)\n",
      "  File \"/mnt/home/dforeman/miniconda3/envs/autoexoplanet/lib/python3.7/site-packages/six.py\", line 693, in reraise\n",
      "    raise value\n",
      "ValueError: dimension mismatch\n",
      "\n"
     ]
    },
    {
     "ename": "ValueError",
     "evalue": "dimension mismatch\nApply node that caused the error: IntegratedLimbDarkOp(TensorConstant{[ 0.146912...01836403]}, TensorConstant{(1, 1000) of 0.02}, TensorConstant{[[0.764   ..964     ]]}, TensorConstant{(1,) of 0.1}, TensorConstant{1.81805130416076}, TensorConstant{-9.61952468132868}, TensorConstant{1.0}, TensorConstant{0.0}, TensorConstant{0.0}, TensorConstant{0.0}, TensorConstant{0.0})\nToposort index: 0\nInputs types: [TensorType(float64, vector), TensorType(float64, row), TensorType(float64, row), TensorType(float64, vector), TensorType(float64, scalar), TensorType(float64, scalar), TensorType(float64, scalar), TensorType(float64, scalar), TensorType(float32, scalar), TensorType(float32, scalar), TensorType(float32, scalar)]\nInputs shapes: [(3,), (1, 1000), (1, 1000), (1,), (), (), (), (), (), (), ()]\nInputs strides: [(8,), (8000, 8), (8000, 8), (8,), (), (), (), (), (), (), ()]\nInputs values: [array([ 0.14691226,  0.25709645, -0.01836403]), 'not shown', 'not shown', array([0.1]), array(1.8180513), array(-9.61952468), array(1.), array(0.), array(0., dtype=float32), array(0., dtype=float32), array(0., dtype=float32)]\nOutputs clients: [['output'], [], [], [], [], [], [], [], [], [], []]\n\nBacktrace when the node is created(use Theano flag traceback.limit=N to make it longer):\n  File \"/mnt/home/dforeman/miniconda3/envs/autoexoplanet/lib/python3.7/site-packages/IPython/core/async_helpers.py\", line 67, in _pseudo_sync_runner\n    coro.send(None)\n  File \"/mnt/home/dforeman/miniconda3/envs/autoexoplanet/lib/python3.7/site-packages/IPython/core/interactiveshell.py\", line 3020, in run_cell_async\n    interactivity=interactivity, compiler=compiler, result=result)\n  File \"/mnt/home/dforeman/miniconda3/envs/autoexoplanet/lib/python3.7/site-packages/IPython/core/interactiveshell.py\", line 3185, in run_ast_nodes\n    if (yield from self.run_code(code, result)):\n  File \"/mnt/home/dforeman/miniconda3/envs/autoexoplanet/lib/python3.7/site-packages/IPython/core/interactiveshell.py\", line 3267, in run_code\n    exec(code_obj, self.user_global_ns, self.user_ns)\n  File \"<ipython-input-3-d645b477ab2d>\", line 13, in <module>\n    orbit=orbit, r=0.1, t=t, texp=0.02).eval()\n  File \"/mnt/home/dforeman/research/projects/dfm/exoplanet_auto/exoplanet/light_curves.py\", line 325, in get_light_curve\n    cosw,\n  File \"/mnt/home/dforeman/miniconda3/envs/autoexoplanet/lib/python3.7/site-packages/theano/gof/op.py\", line 615, in __call__\n    node = self.make_node(*inputs, **kwargs)\n  File \"/mnt/home/dforeman/research/projects/dfm/exoplanet_auto/exoplanet/theano_ops/starry/integrated_limbdark.py\", line 49, in make_node\n    in_args[1].type(),\n\nHINT: Use the Theano flag 'exception_verbosity=high' for a debugprint and storage map footprint of this apply node.",
     "output_type": "error",
     "traceback": [
      "\u001b[0;31m---------------------------------------------------------------------------\u001b[0m",
      "\u001b[0;31mValueError\u001b[0m                                Traceback (most recent call last)",
      "\u001b[0;32m~/miniconda3/envs/autoexoplanet/lib/python3.7/site-packages/theano/compile/function_module.py\u001b[0m in \u001b[0;36m__call__\u001b[0;34m(self, *args, **kwargs)\u001b[0m\n\u001b[1;32m    902\u001b[0m             \u001b[0moutputs\u001b[0m \u001b[0;34m=\u001b[0m\u001b[0;31m\\\u001b[0m\u001b[0;34m\u001b[0m\u001b[0;34m\u001b[0m\u001b[0m\n\u001b[0;32m--> 903\u001b[0;31m                 \u001b[0mself\u001b[0m\u001b[0;34m.\u001b[0m\u001b[0mfn\u001b[0m\u001b[0;34m(\u001b[0m\u001b[0;34m)\u001b[0m \u001b[0;32mif\u001b[0m \u001b[0moutput_subset\u001b[0m \u001b[0;32mis\u001b[0m \u001b[0;32mNone\u001b[0m \u001b[0;32melse\u001b[0m\u001b[0;31m\\\u001b[0m\u001b[0;34m\u001b[0m\u001b[0;34m\u001b[0m\u001b[0m\n\u001b[0m\u001b[1;32m    904\u001b[0m                 \u001b[0mself\u001b[0m\u001b[0;34m.\u001b[0m\u001b[0mfn\u001b[0m\u001b[0;34m(\u001b[0m\u001b[0moutput_subset\u001b[0m\u001b[0;34m=\u001b[0m\u001b[0moutput_subset\u001b[0m\u001b[0;34m)\u001b[0m\u001b[0;34m\u001b[0m\u001b[0;34m\u001b[0m\u001b[0m\n",
      "\u001b[0;31mValueError\u001b[0m: dimension mismatch",
      "\nDuring handling of the above exception, another exception occurred:\n",
      "\u001b[0;31mValueError\u001b[0m                                Traceback (most recent call last)",
      "\u001b[0;32m<ipython-input-3-d645b477ab2d>\u001b[0m in \u001b[0;36m<module>\u001b[0;34m\u001b[0m\n\u001b[1;32m     11\u001b[0m \u001b[0mu\u001b[0m \u001b[0;34m=\u001b[0m \u001b[0;34m[\u001b[0m\u001b[0;36m0.3\u001b[0m\u001b[0;34m,\u001b[0m \u001b[0;36m0.2\u001b[0m\u001b[0;34m]\u001b[0m\u001b[0;34m\u001b[0m\u001b[0;34m\u001b[0m\u001b[0m\n\u001b[1;32m     12\u001b[0m light_curve = xo.IntegratedLimbDarkLightCurve(u).get_light_curve(\n\u001b[0;32m---> 13\u001b[0;31m     orbit=orbit, r=0.1, t=t, texp=0.02).eval()\n\u001b[0m\u001b[1;32m     14\u001b[0m \u001b[0;31m# Note: the `eval` is needed because this is using Theano in\u001b[0m\u001b[0;34m\u001b[0m\u001b[0;34m\u001b[0m\u001b[0;34m\u001b[0m\u001b[0m\n\u001b[1;32m     15\u001b[0m \u001b[0;31m# the background\u001b[0m\u001b[0;34m\u001b[0m\u001b[0;34m\u001b[0m\u001b[0;34m\u001b[0m\u001b[0m\n",
      "\u001b[0;32m~/miniconda3/envs/autoexoplanet/lib/python3.7/site-packages/theano/gof/graph.py\u001b[0m in \u001b[0;36meval\u001b[0;34m(self, inputs_to_values)\u001b[0m\n\u001b[1;32m    523\u001b[0m         \u001b[0margs\u001b[0m \u001b[0;34m=\u001b[0m \u001b[0;34m[\u001b[0m\u001b[0minputs_to_values\u001b[0m\u001b[0;34m[\u001b[0m\u001b[0mparam\u001b[0m\u001b[0;34m]\u001b[0m \u001b[0;32mfor\u001b[0m \u001b[0mparam\u001b[0m \u001b[0;32min\u001b[0m \u001b[0minputs\u001b[0m\u001b[0;34m]\u001b[0m\u001b[0;34m\u001b[0m\u001b[0;34m\u001b[0m\u001b[0m\n\u001b[1;32m    524\u001b[0m \u001b[0;34m\u001b[0m\u001b[0m\n\u001b[0;32m--> 525\u001b[0;31m         \u001b[0mrval\u001b[0m \u001b[0;34m=\u001b[0m \u001b[0mself\u001b[0m\u001b[0;34m.\u001b[0m\u001b[0m_fn_cache\u001b[0m\u001b[0;34m[\u001b[0m\u001b[0minputs\u001b[0m\u001b[0;34m]\u001b[0m\u001b[0;34m(\u001b[0m\u001b[0;34m*\u001b[0m\u001b[0margs\u001b[0m\u001b[0;34m)\u001b[0m\u001b[0;34m\u001b[0m\u001b[0;34m\u001b[0m\u001b[0m\n\u001b[0m\u001b[1;32m    526\u001b[0m \u001b[0;34m\u001b[0m\u001b[0m\n\u001b[1;32m    527\u001b[0m         \u001b[0;32mreturn\u001b[0m \u001b[0mrval\u001b[0m\u001b[0;34m\u001b[0m\u001b[0;34m\u001b[0m\u001b[0m\n",
      "\u001b[0;32m~/miniconda3/envs/autoexoplanet/lib/python3.7/site-packages/theano/compile/function_module.py\u001b[0m in \u001b[0;36m__call__\u001b[0;34m(self, *args, **kwargs)\u001b[0m\n\u001b[1;32m    915\u001b[0m                     \u001b[0mnode\u001b[0m\u001b[0;34m=\u001b[0m\u001b[0mself\u001b[0m\u001b[0;34m.\u001b[0m\u001b[0mfn\u001b[0m\u001b[0;34m.\u001b[0m\u001b[0mnodes\u001b[0m\u001b[0;34m[\u001b[0m\u001b[0mself\u001b[0m\u001b[0;34m.\u001b[0m\u001b[0mfn\u001b[0m\u001b[0;34m.\u001b[0m\u001b[0mposition_of_error\u001b[0m\u001b[0;34m]\u001b[0m\u001b[0;34m,\u001b[0m\u001b[0;34m\u001b[0m\u001b[0;34m\u001b[0m\u001b[0m\n\u001b[1;32m    916\u001b[0m                     \u001b[0mthunk\u001b[0m\u001b[0;34m=\u001b[0m\u001b[0mthunk\u001b[0m\u001b[0;34m,\u001b[0m\u001b[0;34m\u001b[0m\u001b[0;34m\u001b[0m\u001b[0m\n\u001b[0;32m--> 917\u001b[0;31m                     storage_map=getattr(self.fn, 'storage_map', None))\n\u001b[0m\u001b[1;32m    918\u001b[0m             \u001b[0;32melse\u001b[0m\u001b[0;34m:\u001b[0m\u001b[0;34m\u001b[0m\u001b[0;34m\u001b[0m\u001b[0m\n\u001b[1;32m    919\u001b[0m                 \u001b[0;31m# old-style linkers raise their own exceptions\u001b[0m\u001b[0;34m\u001b[0m\u001b[0;34m\u001b[0m\u001b[0;34m\u001b[0m\u001b[0m\n",
      "\u001b[0;32m~/miniconda3/envs/autoexoplanet/lib/python3.7/site-packages/theano/gof/link.py\u001b[0m in \u001b[0;36mraise_with_op\u001b[0;34m(node, thunk, exc_info, storage_map)\u001b[0m\n\u001b[1;32m    323\u001b[0m         \u001b[0;31m# extra long error message in that case.\u001b[0m\u001b[0;34m\u001b[0m\u001b[0;34m\u001b[0m\u001b[0;34m\u001b[0m\u001b[0m\n\u001b[1;32m    324\u001b[0m         \u001b[0;32mpass\u001b[0m\u001b[0;34m\u001b[0m\u001b[0;34m\u001b[0m\u001b[0m\n\u001b[0;32m--> 325\u001b[0;31m     \u001b[0mreraise\u001b[0m\u001b[0;34m(\u001b[0m\u001b[0mexc_type\u001b[0m\u001b[0;34m,\u001b[0m \u001b[0mexc_value\u001b[0m\u001b[0;34m,\u001b[0m \u001b[0mexc_trace\u001b[0m\u001b[0;34m)\u001b[0m\u001b[0;34m\u001b[0m\u001b[0;34m\u001b[0m\u001b[0m\n\u001b[0m\u001b[1;32m    326\u001b[0m \u001b[0;34m\u001b[0m\u001b[0m\n\u001b[1;32m    327\u001b[0m \u001b[0;34m\u001b[0m\u001b[0m\n",
      "\u001b[0;32m~/miniconda3/envs/autoexoplanet/lib/python3.7/site-packages/six.py\u001b[0m in \u001b[0;36mreraise\u001b[0;34m(tp, value, tb)\u001b[0m\n\u001b[1;32m    690\u001b[0m                 \u001b[0mvalue\u001b[0m \u001b[0;34m=\u001b[0m \u001b[0mtp\u001b[0m\u001b[0;34m(\u001b[0m\u001b[0;34m)\u001b[0m\u001b[0;34m\u001b[0m\u001b[0;34m\u001b[0m\u001b[0m\n\u001b[1;32m    691\u001b[0m             \u001b[0;32mif\u001b[0m \u001b[0mvalue\u001b[0m\u001b[0;34m.\u001b[0m\u001b[0m__traceback__\u001b[0m \u001b[0;32mis\u001b[0m \u001b[0;32mnot\u001b[0m \u001b[0mtb\u001b[0m\u001b[0;34m:\u001b[0m\u001b[0;34m\u001b[0m\u001b[0;34m\u001b[0m\u001b[0m\n\u001b[0;32m--> 692\u001b[0;31m                 \u001b[0;32mraise\u001b[0m \u001b[0mvalue\u001b[0m\u001b[0;34m.\u001b[0m\u001b[0mwith_traceback\u001b[0m\u001b[0;34m(\u001b[0m\u001b[0mtb\u001b[0m\u001b[0;34m)\u001b[0m\u001b[0;34m\u001b[0m\u001b[0;34m\u001b[0m\u001b[0m\n\u001b[0m\u001b[1;32m    693\u001b[0m             \u001b[0;32mraise\u001b[0m \u001b[0mvalue\u001b[0m\u001b[0;34m\u001b[0m\u001b[0;34m\u001b[0m\u001b[0m\n\u001b[1;32m    694\u001b[0m         \u001b[0;32mfinally\u001b[0m\u001b[0;34m:\u001b[0m\u001b[0;34m\u001b[0m\u001b[0;34m\u001b[0m\u001b[0m\n",
      "\u001b[0;32m~/miniconda3/envs/autoexoplanet/lib/python3.7/site-packages/theano/compile/function_module.py\u001b[0m in \u001b[0;36m__call__\u001b[0;34m(self, *args, **kwargs)\u001b[0m\n\u001b[1;32m    901\u001b[0m         \u001b[0;32mtry\u001b[0m\u001b[0;34m:\u001b[0m\u001b[0;34m\u001b[0m\u001b[0;34m\u001b[0m\u001b[0m\n\u001b[1;32m    902\u001b[0m             \u001b[0moutputs\u001b[0m \u001b[0;34m=\u001b[0m\u001b[0;31m\\\u001b[0m\u001b[0;34m\u001b[0m\u001b[0;34m\u001b[0m\u001b[0m\n\u001b[0;32m--> 903\u001b[0;31m                 \u001b[0mself\u001b[0m\u001b[0;34m.\u001b[0m\u001b[0mfn\u001b[0m\u001b[0;34m(\u001b[0m\u001b[0;34m)\u001b[0m \u001b[0;32mif\u001b[0m \u001b[0moutput_subset\u001b[0m \u001b[0;32mis\u001b[0m \u001b[0;32mNone\u001b[0m \u001b[0;32melse\u001b[0m\u001b[0;31m\\\u001b[0m\u001b[0;34m\u001b[0m\u001b[0;34m\u001b[0m\u001b[0m\n\u001b[0m\u001b[1;32m    904\u001b[0m                 \u001b[0mself\u001b[0m\u001b[0;34m.\u001b[0m\u001b[0mfn\u001b[0m\u001b[0;34m(\u001b[0m\u001b[0moutput_subset\u001b[0m\u001b[0;34m=\u001b[0m\u001b[0moutput_subset\u001b[0m\u001b[0;34m)\u001b[0m\u001b[0;34m\u001b[0m\u001b[0;34m\u001b[0m\u001b[0m\n\u001b[1;32m    905\u001b[0m         \u001b[0;32mexcept\u001b[0m \u001b[0mException\u001b[0m\u001b[0;34m:\u001b[0m\u001b[0;34m\u001b[0m\u001b[0;34m\u001b[0m\u001b[0m\n",
      "\u001b[0;31mValueError\u001b[0m: dimension mismatch\nApply node that caused the error: IntegratedLimbDarkOp(TensorConstant{[ 0.146912...01836403]}, TensorConstant{(1, 1000) of 0.02}, TensorConstant{[[0.764   ..964     ]]}, TensorConstant{(1,) of 0.1}, TensorConstant{1.81805130416076}, TensorConstant{-9.61952468132868}, TensorConstant{1.0}, TensorConstant{0.0}, TensorConstant{0.0}, TensorConstant{0.0}, TensorConstant{0.0})\nToposort index: 0\nInputs types: [TensorType(float64, vector), TensorType(float64, row), TensorType(float64, row), TensorType(float64, vector), TensorType(float64, scalar), TensorType(float64, scalar), TensorType(float64, scalar), TensorType(float64, scalar), TensorType(float32, scalar), TensorType(float32, scalar), TensorType(float32, scalar)]\nInputs shapes: [(3,), (1, 1000), (1, 1000), (1,), (), (), (), (), (), (), ()]\nInputs strides: [(8,), (8000, 8), (8000, 8), (8,), (), (), (), (), (), (), ()]\nInputs values: [array([ 0.14691226,  0.25709645, -0.01836403]), 'not shown', 'not shown', array([0.1]), array(1.8180513), array(-9.61952468), array(1.), array(0.), array(0., dtype=float32), array(0., dtype=float32), array(0., dtype=float32)]\nOutputs clients: [['output'], [], [], [], [], [], [], [], [], [], []]\n\nBacktrace when the node is created(use Theano flag traceback.limit=N to make it longer):\n  File \"/mnt/home/dforeman/miniconda3/envs/autoexoplanet/lib/python3.7/site-packages/IPython/core/async_helpers.py\", line 67, in _pseudo_sync_runner\n    coro.send(None)\n  File \"/mnt/home/dforeman/miniconda3/envs/autoexoplanet/lib/python3.7/site-packages/IPython/core/interactiveshell.py\", line 3020, in run_cell_async\n    interactivity=interactivity, compiler=compiler, result=result)\n  File \"/mnt/home/dforeman/miniconda3/envs/autoexoplanet/lib/python3.7/site-packages/IPython/core/interactiveshell.py\", line 3185, in run_ast_nodes\n    if (yield from self.run_code(code, result)):\n  File \"/mnt/home/dforeman/miniconda3/envs/autoexoplanet/lib/python3.7/site-packages/IPython/core/interactiveshell.py\", line 3267, in run_code\n    exec(code_obj, self.user_global_ns, self.user_ns)\n  File \"<ipython-input-3-d645b477ab2d>\", line 13, in <module>\n    orbit=orbit, r=0.1, t=t, texp=0.02).eval()\n  File \"/mnt/home/dforeman/research/projects/dfm/exoplanet_auto/exoplanet/light_curves.py\", line 325, in get_light_curve\n    cosw,\n  File \"/mnt/home/dforeman/miniconda3/envs/autoexoplanet/lib/python3.7/site-packages/theano/gof/op.py\", line 615, in __call__\n    node = self.make_node(*inputs, **kwargs)\n  File \"/mnt/home/dforeman/research/projects/dfm/exoplanet_auto/exoplanet/theano_ops/starry/integrated_limbdark.py\", line 49, in make_node\n    in_args[1].type(),\n\nHINT: Use the Theano flag 'exception_verbosity=high' for a debugprint and storage map footprint of this apply node."
     ]
    }
   ],
   "source": [
    "import numpy as np\n",
    "import matplotlib.pyplot as plt\n",
    "\n",
    "import exoplanet as xo\n",
    "\n",
    "# The light curve calculation requires an orbit\n",
    "orbit = xo.orbits.KeplerianOrbit(period=3.456)\n",
    "\n",
    "# Compute a limb-darkened light curve using starry\n",
    "t = np.linspace(-0.1, 0.1, 1000)\n",
    "u = [0.3, 0.2]\n",
    "light_curve = xo.IntegratedLimbDarkLightCurve(u).get_light_curve(\n",
    "    orbit=orbit, r=0.1, t=t, texp=0.02).eval()\n",
    "# Note: the `eval` is needed because this is using Theano in\n",
    "# the background\n",
    "\n",
    "plt.plot(t, light_curve, color=\"C0\", lw=2)\n",
    "plt.ylabel(\"relative flux\")\n",
    "plt.xlabel(\"time [days]\")\n",
    "plt.xlim(t.min(), t.max());"
   ]
  },
  {
   "cell_type": "markdown",
   "metadata": {},
   "source": [
    "But the real power comes from the fact that this is defined as a [Theano operation](http://deeplearning.net/software/theano/extending/extending_theano.html) so it can be combined with PyMC3 to do transit inference using Hamiltonian Monte Carlo.\n",
    "\n",
    "## The transit model in PyMC3\n",
    "\n",
    "In this section, we will construct a simple transit fit model using *PyMC3* and then we will fit a two planet model to simulated data.\n",
    "To start, let's randomly sample some periods and phases and then define the time sampling:"
   ]
  },
  {
   "cell_type": "code",
   "execution_count": null,
   "metadata": {},
   "outputs": [],
   "source": [
    "np.random.seed(123)\n",
    "periods = np.random.uniform(5, 20, 2)\n",
    "t0s = periods * np.random.rand(2)\n",
    "t = np.arange(0, 80, 0.02)\n",
    "yerr = 5e-4"
   ]
  },
  {
   "cell_type": "markdown",
   "metadata": {},
   "source": [
    "Then, define the parameters.\n",
    "In this simple model, we'll just fit for the limb darkening parameters of the star, and the period, phase, impact parameter, and radius ratio of the planets (note: this is already 10 parameters and running MCMC to convergence using [emcee](https://emcee.readthedocs.io) would probably take at least an hour).\n",
    "For the limb darkening, we'll use a quadratic law as parameterized by [Kipping (2013)](https://arxiv.org/abs/1308.0009) and for the joint radius ratio and impact parameter distribution we'll use the parameterization from [Espinoza (2018)](https://arxiv.org/abs/1811.04859).\n",
    "Both of these reparameterizations are implemented in *exoplanet* as custom *PyMC3* distributions (:class:`exoplanet.distributions.QuadLimbDark` and :class:`exoplanet.distributions.RadiusImpact` respectively)."
   ]
  },
  {
   "cell_type": "code",
   "execution_count": null,
   "metadata": {},
   "outputs": [],
   "source": [
    "import pymc3 as pm\n",
    "\n",
    "with pm.Model() as model:\n",
    "\n",
    "    # The baseline flux\n",
    "    mean = pm.Normal(\"mean\", mu=0.0, sd=1.0)\n",
    "    \n",
    "    # The time of a reference transit for each planet\n",
    "    t0 = pm.Normal(\"t0\", mu=t0s, sd=1.0, shape=2)\n",
    "    \n",
    "    # The log period; also tracking the period itself\n",
    "    logP = pm.Normal(\"logP\", mu=np.log(periods), sd=0.1, shape=2)\n",
    "    period = pm.Deterministic(\"period\", pm.math.exp(logP))\n",
    "    \n",
    "    # The Kipping (2013) parameterization for quadratic limb darkening paramters\n",
    "    u = xo.distributions.QuadLimbDark(\"u\", testval=np.array([0.3, 0.2]))\n",
    "    \n",
    "    # The Espinoza (2018) parameterization for the joint radius ratio and\n",
    "    # impact parameter distribution\n",
    "    r, b = xo.distributions.get_joint_radius_impact(\n",
    "        min_radius=0.01, max_radius=0.1,\n",
    "        testval_r=np.array([0.04, 0.06]),\n",
    "        testval_b=np.random.rand(2)\n",
    "    )\n",
    "    \n",
    "    # This shouldn't make a huge difference, but I like to put a uniform\n",
    "    # prior on the *log* of the radius ratio instead of the value. This\n",
    "    # can be implemented by adding a custom \"potential\" (log probability).\n",
    "    pm.Potential(\"r_prior\", -pm.math.log(r))\n",
    "    \n",
    "    # Set up a Keplerian orbit for the planets\n",
    "    orbit = xo.orbits.KeplerianOrbit(period=period, t0=t0, b=b)\n",
    "    \n",
    "    # Compute the model light curve using starry\n",
    "    light_curves = xo.IntegratedLimbDarkLightCurve(u).get_light_curve(\n",
    "        orbit=orbit, r=r, t=t, tol=1e-4)\n",
    "    light_curve = pm.math.sum(light_curves, axis=-1) + mean\n",
    "    \n",
    "    # Here we track the value of the model light curve for plotting\n",
    "    # purposes\n",
    "    pm.Deterministic(\"light_curves\", light_curves)\n",
    "    \n",
    "    # In this line, we simulate the dataset that we will fit\n",
    "    y = xo.eval_in_model(light_curve)\n",
    "    y += yerr * np.random.randn(len(y))\n",
    "    \n",
    "    # The likelihood function assuming known Gaussian uncertainty\n",
    "    pm.Normal(\"obs\", mu=light_curve, sd=yerr, observed=y)\n",
    "    \n",
    "    # Fit for the maximum a posteriori parameters given the simuated\n",
    "    # dataset\n",
    "    map_soln = xo.optimize(start=model.test_point)"
   ]
  },
  {
   "cell_type": "markdown",
   "metadata": {},
   "source": [
    "Now we can plot the simulated data and the maximum a posteriori model to make sure that our initialization looks ok."
   ]
  },
  {
   "cell_type": "code",
   "execution_count": null,
   "metadata": {},
   "outputs": [],
   "source": [
    "plt.plot(t, y, \".k\", ms=4, label=\"data\")\n",
    "for i, l in enumerate(\"bc\"):\n",
    "    plt.plot(t, map_soln[\"light_curves\"][:, i], lw=1,\n",
    "             label=\"planet {0}\".format(l))\n",
    "plt.xlim(t.min(), t.max())\n",
    "plt.ylabel(\"relative flux\")\n",
    "plt.xlabel(\"time [days]\")\n",
    "plt.legend(fontsize=10)\n",
    "plt.title(\"map model\");"
   ]
  },
  {
   "cell_type": "markdown",
   "metadata": {},
   "source": [
    "## Sampling\n",
    "\n",
    "Now, let's sample from the posterior defined by this model.\n",
    "As usual, there are strong covariances between some of the parameters so we'll use the :class:`exoplanet.PyMC3Sampler` to sample."
   ]
  },
  {
   "cell_type": "code",
   "execution_count": null,
   "metadata": {},
   "outputs": [],
   "source": [
    "np.random.seed(42)\n",
    "sampler = xo.PyMC3Sampler(window=100, finish=200, chains=4)\n",
    "with model:\n",
    "    burnin = sampler.tune(tune=2500, start=map_soln, step_kwargs=dict(target_accept=0.9))\n",
    "    trace = sampler.sample(draws=3000)"
   ]
  },
  {
   "cell_type": "markdown",
   "metadata": {},
   "source": [
    "After sampling, it's important that we assess convergence.\n",
    "We can do that using the `pymc3.summary` function:"
   ]
  },
  {
   "cell_type": "code",
   "execution_count": null,
   "metadata": {},
   "outputs": [],
   "source": [
    "pm.summary(trace, varnames=[\"period\", \"t0\", \"r\", \"b\", \"u\", \"mean\"])"
   ]
  },
  {
   "cell_type": "markdown",
   "metadata": {},
   "source": [
    "That looks pretty good!\n",
    "Fitting this without *exoplanet* would have taken a lot more patience.\n",
    "\n",
    "Now we can also look at the [corner plot](https://corner.readthedocs.io) of some of that parameters of interest:"
   ]
  },
  {
   "cell_type": "code",
   "execution_count": null,
   "metadata": {},
   "outputs": [],
   "source": [
    "import corner\n",
    "samples = pm.trace_to_dataframe(trace, varnames=[\"period\", \"r\"])\n",
    "truth = np.concatenate(xo.eval_in_model([period, r], model.test_point, model=model))\n",
    "corner.corner(samples, truths=truth, labels=[\"period 1\", \"period 2\", \"radius 1\", \"radius 2\"]);"
   ]
  },
  {
   "cell_type": "markdown",
   "metadata": {},
   "source": [
    "## Phase plots\n",
    "\n",
    "Like in the radial velocity tutorial (:ref:`rv`), we can make plots of the model predictions for each planet."
   ]
  },
  {
   "cell_type": "code",
   "execution_count": null,
   "metadata": {},
   "outputs": [],
   "source": [
    "for n, letter in enumerate(\"bc\"):\n",
    "    plt.figure()\n",
    "\n",
    "    # Get the posterior median orbital parameters\n",
    "    p = np.median(trace[\"period\"][:, n])\n",
    "    t0 = np.median(trace[\"t0\"][:, n])\n",
    "    \n",
    "    # Compute the median of posterior estimate of the contribution from\n",
    "    # the other planet. Then we can remove this from the data to plot\n",
    "    # just the planet we care about.\n",
    "    other = np.median(trace[\"light_curves\"][:, :, (n + 1) % 2], axis=0)\n",
    "\n",
    "    # Plot the folded data\n",
    "    x_fold = (t - t0 + 0.5*p) % p - 0.5*p\n",
    "    plt.errorbar(x_fold, y - other, yerr=yerr, fmt=\".k\", label=\"data\",\n",
    "                 zorder=-1000)\n",
    "    \n",
    "    # Plot the folded model\n",
    "    inds = np.argsort(x_fold)\n",
    "    inds = inds[np.abs(x_fold)[inds] < 0.3]\n",
    "    pred = trace[\"light_curves\"][:, inds, n] + trace[\"mean\"][:, None]\n",
    "    pred = np.median(pred, axis=0)\n",
    "    plt.plot(x_fold[inds], pred, color=\"C1\", label=\"model\")\n",
    "    \n",
    "    # Annotate the plot with the planet's period\n",
    "    txt = \"period = {0:.4f} +/- {1:.4f} d\".format(\n",
    "        np.mean(trace[\"period\"][:, n]), np.std(trace[\"period\"][:, n]))\n",
    "    plt.annotate(txt, (0, 0), xycoords=\"axes fraction\",\n",
    "                 xytext=(5, 5), textcoords=\"offset points\", \n",
    "                 ha=\"left\", va=\"bottom\", fontsize=12)\n",
    "\n",
    "    plt.legend(fontsize=10, loc=4)\n",
    "    plt.xlim(-0.5*p, 0.5*p)\n",
    "    plt.xlabel(\"time since transit [days]\")\n",
    "    plt.ylabel(\"relative flux\")\n",
    "    plt.title(\"planet {0}\".format(letter));\n",
    "    plt.xlim(-0.3, 0.3)"
   ]
  },
  {
   "cell_type": "markdown",
   "metadata": {},
   "source": [
    "## Citations\n",
    "\n",
    "As described in the :ref:`citation` tutorial, we can use :func:`exoplanet.citations.get_citations_for_model` to construct an acknowledgement and BibTeX listing that includes the relevant citations for this model.\n",
    "This is especially important here because we have used quite a few model components that should be cited."
   ]
  },
  {
   "cell_type": "code",
   "execution_count": null,
   "metadata": {},
   "outputs": [],
   "source": [
    "with model:\n",
    "    txt, bib = xo.citations.get_citations_for_model()\n",
    "print(txt)"
   ]
  },
  {
   "cell_type": "code",
   "execution_count": null,
   "metadata": {},
   "outputs": [],
   "source": [
    "print(\"\\n\".join(bib.splitlines()[:10]) + \"\\n...\")"
   ]
  },
  {
   "cell_type": "code",
   "execution_count": null,
   "metadata": {},
   "outputs": [],
   "source": []
  }
 ],
 "metadata": {
  "kernelspec": {
   "display_name": "Python 3",
   "language": "python",
   "name": "python3"
  },
  "language_info": {
   "codemirror_mode": {
    "name": "ipython",
    "version": 3
   },
   "file_extension": ".py",
   "mimetype": "text/x-python",
   "name": "python",
   "nbconvert_exporter": "python",
   "pygments_lexer": "ipython3",
   "version": "3.6.8"
  }
 },
 "nbformat": 4,
 "nbformat_minor": 2
}
