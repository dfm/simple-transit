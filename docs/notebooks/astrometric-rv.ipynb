{
 "cells": [
  {
   "cell_type": "code",
   "execution_count": null,
   "metadata": {},
   "outputs": [],
   "source": [
    "%matplotlib inline"
   ]
  },
  {
   "cell_type": "code",
   "execution_count": null,
   "metadata": {},
   "outputs": [],
   "source": [
    "%run notebook_setup"
   ]
  },
  {
   "cell_type": "code",
   "execution_count": null,
   "metadata": {},
   "outputs": [],
   "source": [
    "import numpy as np\n",
    "import pandas as pd\n",
    "import matplotlib.pyplot as plt\n",
    "from astropy.time import Time\n",
    "from astropy.io import ascii\n",
    "from astropy import units as u\n",
    "from astropy import constants\n",
    "\n",
    "deg = np.pi/180.\n",
    "yr = 365.25 # days / year"
   ]
  },
  {
   "cell_type": "markdown",
   "metadata": {},
   "source": [
    "# Astrometric Orbits with Exoplanet\n",
    "\n",
    "In the previous tutorial (:ref:`astrometric`) we showed how to fit an orbit with `exoplanet` where only astrometric information is available. In this notebook we'll extend that same example to also include the available radial velocity information on the system. \n",
    "\n",
    "## Data \n",
    "As before we'll use the astrometric and radial velocity measurements of HR 466 (HD 10009) as compiled by [Pourbaix 1998](https://ui.adsabs.harvard.edu/#abs/1998A&AS..131..377P/abstract). The speckle observations are from [Hartkopf et al. 1996](https://ui.adsabs.harvard.edu/#abs/1996AJ....111..370H/abstract), and the radial velocities  are from [Tokovinin 1993](https://ui.adsabs.harvard.edu/#abs/1993AstL...19...73T/abstract). "
   ]
  },
  {
   "cell_type": "code",
   "execution_count": null,
   "metadata": {},
   "outputs": [],
   "source": [
    "# grab the formatted data and do some munging\n",
    "\n",
    "dirname = \"https://gist.github.com/iancze/262aba2429cb9aee3fd5b5e1a4582d4d/raw/c5fa5bc39fec90d2cc2e736eed479099e3e598e3/\"\n",
    "# dirname = \"/home/ian/Research/Stars/TWA3/TWA-3-orbit/test-files/\"\n",
    "\n",
    "astro_data_full = ascii.read(dirname + \"astro.txt\", format=\"csv\", fill_values=[(\".\", '0')])\n",
    "\n",
    "rv1_data = ascii.read(dirname + \"rv1.txt\", format=\"csv\")\n",
    "rv2_data = ascii.read(dirname + \"rv2.txt\", format=\"csv\")"
   ]
  },
  {
   "cell_type": "code",
   "execution_count": null,
   "metadata": {},
   "outputs": [],
   "source": [
    "# convert UT date to JD\n",
    "astro_dates = Time(astro_data_full[\"date\"].data, format=\"decimalyear\")\n",
    "\n",
    "# Following the Pourbaix et al. 1998 analysis, we'll limit ourselves to the highest quality data\n",
    "# since the raw collection of data outside of these ranges has some ambiguities in swapping \n",
    "# the primary and secondary star\n",
    "ind = (astro_dates.value > 1975.) & (astro_dates.value < 1999.73) \\\n",
    "    & (~astro_data_full[\"rho\"].mask) & (~astro_data_full[\"PA\"].mask) # eliminate entries with no measurements\n",
    "\n",
    "astro_data = astro_data_full[ind]\n",
    "\n",
    "astro_yrs = astro_data[\"date\"]\n",
    "astro_dates.format = 'jd'\n",
    "astro_jds = astro_dates[ind].value\n",
    "\n",
    "# adjust the errors as before\n",
    "astro_data[\"rho_err\"][astro_data[\"rho_err\"].mask == True] = 0.01\n",
    "astro_data[\"PA_err\"][astro_data[\"PA_err\"].mask == True] = 1.0\n",
    "\n",
    "# convert all masked frames to be raw np arrays, since theano has issues with astropy masked columns\n",
    "rho_data = np.ascontiguousarray(astro_data[\"rho\"], dtype=float) # arcsec\n",
    "rho_err = np.ascontiguousarray(astro_data[\"rho_err\"], dtype=float)\n",
    "\n",
    "# the position angle measurements come in degrees in the range [0, 360].\n",
    "# we need to convert this to radians in the range [-pi, pi]\n",
    "theta_data = np.ascontiguousarray(astro_data[\"PA\"] * deg, dtype=float) \n",
    "theta_data[theta_data > np.pi] -= 2 * np.pi\n",
    "\n",
    "theta_err = np.ascontiguousarray(astro_data[\"PA_err\"] * deg) # radians"
   ]
  },
  {
   "cell_type": "code",
   "execution_count": null,
   "metadata": {},
   "outputs": [],
   "source": [
    "# take out the data as only numpy arrays\n",
    "rv1 = rv1_data[\"rv\"].data\n",
    "rv1_err = rv1_data[\"err\"].data\n",
    "\n",
    "rv2 = rv2_data[\"rv\"].data\n",
    "rv2_err = rv2_data[\"err\"].data\n",
    "\n",
    "# adapt the dates of the RV series \n",
    "rv1_dates = Time(rv1_data[\"date\"] + 2400000, format=\"jd\")\n",
    "rv1_jds = rv1_dates.value\n",
    "rv2_dates = Time(rv2_data[\"date\"] + 2400000, format=\"jd\")\n",
    "rv2_jds = rv2_dates.value\n",
    "\n",
    "rv1_yr = rv1_dates.decimalyear\n",
    "rv2_yr = rv2_dates.decimalyear"
   ]
  },
  {
   "cell_type": "markdown",
   "metadata": {},
   "source": [
    "As before, we'll plot $\\rho$ vs. time and P.A. vs. time. We'll also add the RV time series for the primary and secondary stars."
   ]
  },
  {
   "cell_type": "code",
   "execution_count": null,
   "metadata": {},
   "outputs": [],
   "source": [
    "pkw = {\"ls\":\"\", \"color\":\"k\", \"marker\":\".\"}\n",
    "ekw = {\"ls\":\"\", \"color\":\"C1\"}\n",
    "\n",
    "fig, ax = plt.subplots(nrows=4, sharex=True, figsize=(5,8))\n",
    "ax[0].plot(astro_yrs, rho_data, **pkw)\n",
    "ax[0].errorbar(astro_yrs, rho_data, yerr=rho_err, ls=\"\")\n",
    "ax[0].set_ylabel(r'$\\rho\\,$ [\"]')\n",
    "\n",
    "ax[1].plot(astro_yrs, theta_data, **pkw)\n",
    "ax[1].errorbar(astro_yrs, theta_data, yerr=theta_err, ls=\"\")\n",
    "ax[1].set_ylabel(r'P.A. [radians]');\n",
    "\n",
    "ax[2].plot(rv1_yr, rv1, **pkw)\n",
    "ax[2].errorbar(rv1_yr, rv1, yerr=rv1_err, **ekw)\n",
    "ax[2].set_ylabel(r\"$v_1$ [km/s]\")\n",
    "\n",
    "ax[3].plot(rv2_yr, rv2, **pkw)\n",
    "ax[3].errorbar(rv2_yr, rv2, yerr=rv2_err, **ekw)\n",
    "ax[3].set_ylabel(r\"$v_2$ [km/s]\");"
   ]
  },
  {
   "cell_type": "code",
   "execution_count": null,
   "metadata": {},
   "outputs": [],
   "source": [
    "# import the relevant packages \n",
    "import pymc3 as pm \n",
    "import theano.tensor as tt\n",
    "\n",
    "import exoplanet as xo\n",
    "import exoplanet.orbits\n",
    "from exoplanet.distributions import Angle"
   ]
  },
  {
   "cell_type": "code",
   "execution_count": null,
   "metadata": {},
   "outputs": [],
   "source": [
    "def calc_Mtot(a, P):\n",
    "    '''\n",
    "    Calculate the total mass of the system using Kepler's third law. \n",
    "    \n",
    "    Args: \n",
    "        a (au) semi-major axis\n",
    "        P (days) period \n",
    "        \n",
    "    Returns:\n",
    "        Mtot (M_sun) total mass of system (M_primary + M_secondary)\n",
    "    '''\n",
    "    \n",
    "    day_to_s = (1 * u.day).to(u.s).value\n",
    "    au_to_m = (1 * u.au).to(u.m).value\n",
    "    kg_to_M_sun = (1 * u.kg).to(u.M_sun).value\n",
    "    \n",
    "    return 4 * np.pi**2 * (a * au_to_m)**3 / (constants.G.value * (P * day_to_s)**2) * kg_to_M_sun"
   ]
  },
  {
   "cell_type": "code",
   "execution_count": null,
   "metadata": {},
   "outputs": [],
   "source": [
    "# testing unique inputs \n",
    "\n",
    "# conversion constant\n",
    "au_to_R_sun = (constants.au / constants.R_sun).value\n",
    "\n",
    "a_ang = 0.324 # arcsec\n",
    "parallax = 24.05 # milliarcsec \n",
    "dpc = 1e3 / parallax\n",
    "a = a_ang * dpc # au\n",
    "\n",
    "e = 0.798\n",
    "i = 96.0 * deg # [rad]\n",
    "omega = 251.6 * deg - np.pi # Pourbaix reports omega_2, but we want omega_1\n",
    "Omega = 159.6 * deg \n",
    "P = 28.8 * 365.25 # days\n",
    "\n",
    "T0 = Time(1989.92, format=\"decimalyear\")\n",
    "T0.format = \"jd\"\n",
    "T0 = T0.value # [Julian Date]\n",
    "\n",
    "gamma = 47.97 # km/s; systemic velocity\n",
    "\n",
    "# kappa = a1 / (a1 + a2)\n",
    "kappa = 0.45 \n",
    "\n",
    "# calculate Mtot from a, P\n",
    "Mtot = calc_Mtot(a, P)\n",
    "\n",
    "M2 = kappa * Mtot\n",
    "M1 = Mtot - M2\n",
    "\n",
    "# calculate M1, M2 from kappa and Mtot \n",
    "print(\"Masses from Kepler's third law M1:{:.2f}, M2:{:.2f}, Mtot:{:.2f}\".format(M1, M2, Mtot))\n",
    "\n",
    "# n.b. that we include an extra conversion for a, because exoplanet expects a in R_sun\n",
    "orbit = xo.orbits.KeplerianOrbit(a=a * au_to_R_sun, t_periastron=T0, period=P, \n",
    "                               incl=i, ecc=e, omega=omega, Omega=Omega, m_planet=M2)\n",
    "\n",
    "\n",
    "print(\"m_planet: {:.2f}\".format(orbit.m_planet.eval()))\n",
    "print(\"m_star: {:.2f}\".format(orbit.m_star.eval()))\n",
    "print(\"m_tot: {:.2f}\".format(orbit.m_total.eval()))"
   ]
  },
  {
   "cell_type": "code",
   "execution_count": null,
   "metadata": {},
   "outputs": [],
   "source": [
    "# Orbital elements from Pourbaix et al. 1998\n",
    "\n",
    "# conversion constant\n",
    "au_to_R_sun = (constants.au / constants.R_sun).value\n",
    "\n",
    "a_ang = 0.324 # arcsec\n",
    "parallax = 24.05 # milliarcsec \n",
    "# parallax = 27.05 # milliarcsec \n",
    "dpc = 1e3 / parallax\n",
    "a = a_ang * dpc # au\n",
    "\n",
    "print(a)\n",
    "\n",
    "e = 0.798\n",
    "i = 96.0 * deg # [rad]\n",
    "omega = 251.6 * deg - np.pi # Pourbaix reports omega_2, but we want omega_1\n",
    "Omega = 159.6 * deg \n",
    "P = 28.8 * 365.25 # days\n",
    "\n",
    "T0 = Time(1989.92, format=\"decimalyear\")\n",
    "T0.format = \"jd\"\n",
    "T0 = T0.value # [Julian Date]\n",
    "\n",
    "\n",
    "gamma = 47.97 # km/s; systemic velocity\n",
    "\n",
    "\n",
    "# kappa = a1 / (a1 + a2)\n",
    "kappa = 0.45 \n",
    "\n",
    "# calculate Mtot from a, P\n",
    "Mtot = calc_Mtot(a, P)\n",
    "\n",
    "M2 = kappa * Mtot\n",
    "M1 = Mtot - M2\n",
    "\n",
    "print(M1, M2, Mtot)\n",
    "# calculate M1, M2 from kappa and Mtot \n",
    "\n",
    "# n = 2 * np.pi / P\n",
    "# t0 = (phi + w) / n\n",
    "\n",
    "# n.b. that we include an extra conversion for a, because exoplanet expects a in R_sun\n",
    "orbit = xo.orbits.KeplerianOrbit(a=a * au_to_R_sun, t_periastron=T0, period=P, \n",
    "                               incl=i, ecc=e, omega=omega, Omega=Omega, m_planet=M2, m_star=M1)\n",
    "\n",
    "# make a theano function to get stuff from orbit \n",
    "times = tt.vector(\"times\")\n",
    "ang = orbit.get_relative_angles(times) # the rho, theta measurements\n",
    "\n",
    "\n",
    "output_units = u.km / u.s\n",
    "conv = (1 * u.R_sun / u.day).to(output_units).value\n",
    "\n",
    "    \n",
    "rv1_model = conv * orbit.get_star_velocity(times)[2] + gamma\n",
    "rv2_model = conv * orbit.get_planet_velocity(times)[2] + gamma\n",
    "\n",
    "f_ang = theano.function([times], ang)\n",
    "f_rv1 = theano.function([times], rv1_model)\n",
    "f_rv2 = theano.function([times], rv2_model)\n",
    "\n",
    "\n",
    "\n",
    "t = np.linspace(T0 - P, T0 + P, num=100) # days\n",
    "\n",
    "rho_phys, theta_model = f_ang(t)\n",
    "# convert back from R_sun to arcseconds\n",
    "rho_model = (rho_phys / au_to_R_sun) / dpc # arcsec\n",
    "\n",
    "rv1s = f_rv1(t)\n",
    "rv2s = f_rv2(t)"
   ]
  },
  {
   "cell_type": "code",
   "execution_count": null,
   "metadata": {},
   "outputs": [],
   "source": [
    "print(orbit.m_star.eval())"
   ]
  },
  {
   "cell_type": "code",
   "execution_count": null,
   "metadata": {},
   "outputs": [],
   "source": [
    "fig, ax = plt.subplots(nrows=4, sharex=True, figsize=(5,8))\n",
    "ax[0].plot(t, rho_model)\n",
    "ax[0].plot(astro_jds, rho_data, **pkw)\n",
    "ax[0].errorbar(astro_jds, rho_data, yerr=rho_err, **ekw)\n",
    "ax[0].set_ylabel(r'$\\rho\\,$ [\"]')\n",
    "\n",
    "ax[1].plot(t, theta_model)\n",
    "ax[1].plot(astro_jds, theta_data, **pkw)\n",
    "ax[1].errorbar(astro_jds, theta_data, yerr=theta_err, **ekw)\n",
    "ax[1].set_ylabel(r'P.A. [radians]');\n",
    "\n",
    "ax[2].plot(t, rv1s)\n",
    "ax[2].plot(rv1_jds, rv1, **pkw)\n",
    "ax[2].errorbar(rv1_jds, rv1, yerr=rv1_err, **ekw)\n",
    "ax[2].set_ylabel(r\"$v_1$ [km/s]\")\n",
    "\n",
    "ax[3].plot(t, rv2s)\n",
    "ax[3].plot(rv2_jds, rv2, **pkw)\n",
    "ax[3].errorbar(rv2_jds, rv2, yerr=rv2_err, **ekw)\n",
    "ax[3].set_ylabel(r\"$v_2$ [km/s]\")"
   ]
  },
  {
   "cell_type": "code",
   "execution_count": null,
   "metadata": {},
   "outputs": [],
   "source": [
    "fig, ax = plt.subplots(nrows=4, sharex=True, format=(5,8))\n",
    "ax[0].plot(t, rho)\n",
    "ax[0].plot(astro_yrs, rho_data, \".\")\n",
    "ax[0].errorbar(astro_yrs, rho_data, yerr=rho_err, ls=\"\")\n",
    "ax[0].set_ylabel(r'$\\rho\\,$ [\"]')\n",
    "\n",
    "ax[1].plot(t, theta * 180/np.pi)\n",
    "ax[1].plot(astro_yrs, theta_data, \".\")\n",
    "ax[1].errorbar(astro_yrs, theta_data, yerr=theta_err, ls=\"\")\n",
    "ax[1].set_ylabel(r'P.A. [degrees]');\n",
    "\n",
    "ax[2].plot(t, rv1s)\n",
    "\n",
    "\n",
    "ax[3].plot(t, rv2s)"
   ]
  },
  {
   "cell_type": "code",
   "execution_count": null,
   "metadata": {},
   "outputs": [],
   "source": [
    "plt.plot(Y, X, \"o\")\n",
    "plt.gca().invert_xaxis()\n",
    "plt.xlabel(r\"$\\Delta \\alpha \\cos \\delta$ [arcsec]\")\n",
    "plt.ylabel(r\"$\\Delta \\delta$ [arcsec]\");"
   ]
  },
  {
   "cell_type": "markdown",
   "metadata": {},
   "source": [
    "Orbit fitting tip from Mike Fitzgerald to use $\\Omega+\\omega$ and $\\Omega-\\omega$ for fitting, since you can get unambiguous constraints on those parameters. "
   ]
  },
  {
   "cell_type": "markdown",
   "metadata": {},
   "source": [
    "Without radial velocity information, there is a $180^\\circ$ degeneracy in the position angle of the ascending node, $\\Omega_2$."
   ]
  },
  {
   "cell_type": "code",
   "execution_count": null,
   "metadata": {},
   "outputs": [],
   "source": [
    "# Sample the orbit \n",
    "\n",
    "# with pm.Model() as model:\n",
    "    \n",
    "#     t0 = pm.Normal(\"t0\", mu=np.array(t0s), sd=np.array(t0_errs))\n",
    "#     P = pm.Normal(\"P\", mu=np.array(periods), sd=np.array(period_errs), shape=2)\n",
    "#     omega = xo.distributions.Angle(\"omega\", shape=2, testval=np.zeros(2))\n",
    "\n",
    "\n",
    "orbit = astro.AstrometricOrbit(a_ang=a, t0=T0, period=P, incl=i, ecc=e, omega=omega, Omega=Omega)\n"
   ]
  }
 ],
 "metadata": {
  "kernelspec": {
   "display_name": "Python 3",
   "language": "python",
   "name": "python3"
  },
  "language_info": {
   "codemirror_mode": {
    "name": "ipython",
    "version": 3
   },
   "file_extension": ".py",
   "mimetype": "text/x-python",
   "name": "python",
   "nbconvert_exporter": "python",
   "pygments_lexer": "ipython3",
   "version": "3.7.1"
  }
 },
 "nbformat": 4,
 "nbformat_minor": 2
}
