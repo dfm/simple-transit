{
 "cells": [
  {
   "cell_type": "code",
   "execution_count": null,
   "metadata": {},
   "outputs": [],
   "source": [
    "%matplotlib inline"
   ]
  },
  {
   "cell_type": "code",
   "execution_count": null,
   "metadata": {},
   "outputs": [],
   "source": [
    "%run notebook_setup"
   ]
  },
  {
   "cell_type": "code",
   "execution_count": null,
   "metadata": {},
   "outputs": [],
   "source": [
    "import numpy as np\n",
    "import pandas as pd\n",
    "import matplotlib.pyplot as plt\n",
    "from astropy.time import Time\n",
    "from astropy.io import ascii\n",
    "from astropy import units as u\n",
    "\n",
    "deg = np.pi/180. # radians / degree\n",
    "yr = 365.25 # days / year"
   ]
  },
  {
   "cell_type": "markdown",
   "metadata": {},
   "source": [
    "# Astrometric Orbits with Exoplanet\n",
    "\n",
    "In this notebook we'll walk through the astrometric functionalities of `exoplanet` and how they can be used to fit a variety of systems, including those with parallax and radial velocity measurements. \n",
    "\n",
    "To start, we'll start with the simplest example (in terms of number of parameters), which is fitting an orbit of a binary star system that only has astrometric measurements of the separation and orientation of the two stars as a function of time. \n",
    "\n",
    "## Data \n",
    "First, let's load and examine the data. We'll use the astrometric measurements of HR 466 (HD 10009) as compiled by [Pourbaix 1998](https://ui.adsabs.harvard.edu/#abs/1998A&AS..131..377P/abstract). The speckle observations are originally from [Hartkopf et al. 1996](https://ui.adsabs.harvard.edu/#abs/1996AJ....111..370H/abstract). There are also radial velocities from [Tokovinin 1993](https://ui.adsabs.harvard.edu/#abs/1993AstL...19...73T/abstract), which we'll use later on. We'll follow the conventions from Pourbaix et al., which are a consistent set conforming to the right-hand-rule and the conventions of the visual binary field, where the ascending node is that where the secondary is *receeding* from the observer. "
   ]
  },
  {
   "cell_type": "code",
   "execution_count": null,
   "metadata": {},
   "outputs": [],
   "source": [
    "# grab the formatted data and do some munging\n",
    "astro_url = \"https://gist.github.com/iancze/262aba2429cb9aee3fd5b5e1a4582d4d/raw/c5fa5bc39fec90d2cc2e736eed479099e3e598e3/astro.txt\"\n",
    "rv1_url = \"https://gist.github.com/iancze/262aba2429cb9aee3fd5b5e1a4582d4d/raw/c5fa5bc39fec90d2cc2e736eed479099e3e598e3/rv1.txt\"\n",
    "rv2_url = \"https://gist.github.com/iancze/262aba2429cb9aee3fd5b5e1a4582d4d/raw/c5fa5bc39fec90d2cc2e736eed479099e3e598e3/rv2.txt\"\n",
    "\n",
    "astro_data_full = ascii.read(astro_url, format=\"csv\", fill_values=[(\".\", '0')])"
   ]
  },
  {
   "cell_type": "code",
   "execution_count": null,
   "metadata": {},
   "outputs": [],
   "source": [
    "# convert UT date to JD\n",
    "astro_dates = Time(astro_data_full[\"date\"].data, format=\"decimalyear\")\n",
    "\n",
    "# Following the Pourbaix et al. 1998 analysis, we'll limit ourselves to the following highest quality data\n",
    "# since the raw collection of data outside of these ranges has some ambiguities in swapping \n",
    "# the primary and secondary star\n",
    "ind = (astro_dates.value > 1975.) & (astro_dates.value < 1999.73) \\\n",
    "    & (~astro_data_full[\"rho\"].mask) & (~astro_data_full[\"PA\"].mask)\n",
    "\n",
    "astro_data = astro_data_full[ind]\n",
    "\n",
    "astro_yrs = astro_data[\"date\"]\n",
    "astro_dates.format = 'jd'\n",
    "astro_jds = astro_dates[ind].value"
   ]
  },
  {
   "cell_type": "markdown",
   "metadata": {},
   "source": [
    "Many of these measurements do not have associated error measurements. For these, we assume a modest estimate of $5^\\circ$ in position angle and $0.05\"$ in separation to get a preliminary fit. The scatter in points around the final solution will be a decent guide of what the systematics in the measurement uncertainty actually were."
   ]
  },
  {
   "cell_type": "code",
   "execution_count": null,
   "metadata": {},
   "outputs": [],
   "source": [
    "astro_data[\"PA_err\"][astro_data[\"PA_err\"].mask == True] = 2.0"
   ]
  },
  {
   "cell_type": "code",
   "execution_count": null,
   "metadata": {},
   "outputs": [],
   "source": [
    "astro_data[\"rho_err\"][astro_data[\"rho_err\"].mask == True] = 0.02"
   ]
  },
  {
   "cell_type": "code",
   "execution_count": null,
   "metadata": {},
   "outputs": [],
   "source": [
    "rho_data = np.ascontiguousarray(astro_data[\"rho\"].data.data, dtype=float) # arcsec\n",
    "# rho_err = np.array(astro_data[\"rho_err\"].data.data) # arcsec\n",
    "rho_err = 0.03 * np.ones_like(rho_data)\n",
    "\n",
    "theta_data = np.ascontiguousarray(astro_data[\"PA\"].data.data * deg, dtype=float) # radians # needs to be in range of -pi to pi\n",
    "theta_data[theta_data > np.pi] -= 2 * np.pi\n",
    "\n",
    "# theta_err = np.array(astro_data[\"PA_err\"].data.data * deg) # radians\n",
    "theta_err = 10.0 * deg * np.ones_like(theta_data)\n",
    "\n",
    "# and here is the full table\n",
    "astro_data"
   ]
  },
  {
   "cell_type": "code",
   "execution_count": null,
   "metadata": {},
   "outputs": [],
   "source": [
    "# normally, we assume that rho is measured in degrees east of north\n",
    "\n",
    "# Make a plot of the astrometric data on the sky\n",
    "\n",
    "fig, ax = plt.subplots(nrows=1)\n",
    "\n",
    "xs = rho_data * np.cos(theta_data) # X is north\n",
    "ys = rho_data * np.sin(theta_data) # Y is east\n",
    "ax.plot(ys, xs, \".\")\n",
    "ax.set_ylabel(r\"$\\Delta \\delta$ ['']\")\n",
    "ax.set_xlabel(r\"$\\Delta \\alpha \\cos \\delta$ ['']\")\n",
    "ax.invert_xaxis()\n",
    "ax.plot(0,0, \"k*\")\n",
    "ax.set_aspect(\"equal\", \"datalim\")"
   ]
  },
  {
   "cell_type": "markdown",
   "metadata": {},
   "source": [
    "The plot on the sky makes the most sense for interpreting the physical scale of the orbit, but when traditional astrometric measurements are made of a secondary star, they are usually made as the separation and angle from the primary star. This means that the \"raw\" measurements are the values of $\\rho$ (separation) and P.A. (position angle) that we listed in our data table, and that the measurement uncertainties live on these values as nice Gaussians. So, to visualize this space more clearly, we can plot $\\rho$ vs. time and P.A. vs. time."
   ]
  },
  {
   "cell_type": "code",
   "execution_count": null,
   "metadata": {},
   "outputs": [],
   "source": [
    "fig, ax = plt.subplots(nrows=2, sharex=True)\n",
    "ax[0].plot(astro_yrs, rho_data, \".\")\n",
    "ax[0].errorbar(astro_yrs, rho_data, yerr=rho_err, ls=\"\")\n",
    "ax[0].set_ylabel(r'$\\rho\\,$ [\"]')\n",
    "\n",
    "ax[1].plot(astro_yrs, theta_data/deg, \".\")\n",
    "ax[1].errorbar(astro_yrs, theta_data/deg, yerr=theta_err/deg, ls=\"\")\n",
    "ax[1].set_ylabel(r'P.A. [degrees]');"
   ]
  },
  {
   "cell_type": "code",
   "execution_count": null,
   "metadata": {},
   "outputs": [],
   "source": [
    "# this is the way the orbit is plotted in Hartkopf et al. 1996\n",
    "\n",
    "# fig, ax = plt.subplots(nrows=1)\n",
    "\n",
    "# xs = rho_data * np.cos(theta_data * deg) # X is north\n",
    "# ys = rho_data * np.sin(theta_data * deg) # Y is east\n",
    "# ax.plot(ys[ind], xs[ind], \".\")\n",
    "# ax.set_ylabel(r\"$\\Delta \\delta$ ['']\")\n",
    "# ax.set_xlabel(r\"$\\Delta \\alpha \\cos \\delta$ ['']\")\n",
    "# ax.invert_yaxis()\n",
    "# ax.plot(0,0, \"k*\")\n",
    "# ax.set_aspect(\"equal\", \"datalim\")"
   ]
  },
  {
   "cell_type": "code",
   "execution_count": null,
   "metadata": {},
   "outputs": [],
   "source": [
    "import pymc3 as pm \n",
    "import theano.tensor as tt\n",
    "\n",
    "import exoplanet as xo\n",
    "\n",
    "import exoplanet.orbits\n",
    "from exoplanet.distributions import Angle"
   ]
  },
  {
   "cell_type": "code",
   "execution_count": null,
   "metadata": {},
   "outputs": [],
   "source": [
    "astro_jd0 = astro_jds[0]"
   ]
  },
  {
   "cell_type": "code",
   "execution_count": null,
   "metadata": {},
   "outputs": [],
   "source": [
    "astro_jd0"
   ]
  },
  {
   "cell_type": "code",
   "execution_count": null,
   "metadata": {},
   "outputs": [],
   "source": [
    "# Just to get started, let's take a look at the orbit using the best-fit parameters from Pourbaix et al. 1998\n",
    "\n",
    "# Exoplanet takes omega_1, the star.\n",
    "\n",
    "# Orbital elements from Pourbaix et al. 1998\n",
    "# For the relative astrometric fit, we only need the following parameters\n",
    "a_ang = 0.324 # arcsec\n",
    "parallax = 1 # arcsec (meaningless choice for now)\n",
    "a = a_ang * parallax\n",
    "e = 0.798\n",
    "i = 96.0 * deg # [rad]\n",
    "omega = 251.6 * deg - np.pi # omega_2 according to Pourbaix RV equations\n",
    "Omega = 159.6 * deg \n",
    "P = 28.8 * 365.25 # days\n",
    "\n",
    "T0 = Time(1989.92, format=\"decimalyear\")\n",
    "T0.format = \"jd\"\n",
    "T0 = T0.value # [Julian Date]\n",
    "Tstart = T0\n",
    "\n",
    "# n = 2 * np.pi / P\n",
    "# t0 = (phi + w) / n\n",
    "\n",
    "\n",
    "# instantiate the orbit\n",
    "# orbit = xo.orbits.KeplerianOrbit(a=a, t_periastron=T0, period=P, incl=i, ecc=e, omega=omega, Omega=Omega)\n",
    "\n",
    "# # # make a theano function to get stuff from orbit \n",
    "# times = tt.vector(\"times\")\n",
    "\n",
    "# pos = orbit.get_relative_position(times) # the X, Y, Z measurements\n",
    "# ang = orbit.get_relative_angles(times) # the rho, theta measurements\n",
    "\n",
    "# f_pos = theano.function([times], pos)\n",
    "# f_ang = theano.function([times], ang)\n",
    "\n",
    "# t = np.linspace(T0 - P, T0 + P, num=200) # days\n",
    "\n",
    "# # anoms = f_anom(t)\n",
    "# X, Y, Z = f_pos(t)\n",
    "# rho, theta = f_ang(t)"
   ]
  },
  {
   "cell_type": "code",
   "execution_count": null,
   "metadata": {},
   "outputs": [],
   "source": [
    "fig, ax = plt.subplots(nrows=1)\n",
    "ax.plot(Y, X)\n",
    "ax.invert_xaxis()"
   ]
  },
  {
   "cell_type": "code",
   "execution_count": null,
   "metadata": {},
   "outputs": [],
   "source": [
    "fig, ax = plt.subplots(nrows=2, sharex=True)\n",
    "ax[0].plot(t, rho)\n",
    "ax[0].plot(astro_jds, rho_data, \".\")\n",
    "ax[0].errorbar(astro_jds, rho_data, yerr=rho_err, ls=\"\")\n",
    "ax[0].set_ylabel(r'$\\rho\\,$ [\"]')\n",
    "\n",
    "theta_wrap = theta \n",
    "theta_wrap[theta_wrap < 0] += 2 * np.pi\n",
    "\n",
    "ax[1].plot(t, theta/deg)\n",
    "ax[1].plot(astro_jds, theta_data/deg, \".\")\n",
    "ax[1].errorbar(astro_jds, theta_data/deg, yerr=theta_err/deg, ls=\"\")\n",
    "ax[1].set_ylabel(r'P.A. [degrees]');"
   ]
  },
  {
   "cell_type": "code",
   "execution_count": null,
   "metadata": {},
   "outputs": [],
   "source": [
    "fig, ax = plt.subplots(nrows=1)\n",
    "ax.plot(Y, X, \"o\")\n",
    "ax.plot(0, 0, \"k*\")\n",
    "ax.invert_xaxis()\n",
    "ax.set_xlabel(r\"$\\Delta \\alpha \\cos \\delta$ [arcsec]\")\n",
    "ax.set_ylabel(r\"$\\Delta \\delta$ [arcsec]\");\n",
    "ax.set_aspect(\"equal\", \"datalim\")"
   ]
  },
  {
   "cell_type": "code",
   "execution_count": null,
   "metadata": {},
   "outputs": [],
   "source": [
    "theta_data"
   ]
  },
  {
   "cell_type": "markdown",
   "metadata": {},
   "source": [
    "Orbit fitting tip from Mike Fitzgerald to use $\\Omega+\\omega$ and $\\Omega-\\omega$ for fitting, since you can get unambiguous constraints on those parameters. "
   ]
  },
  {
   "cell_type": "markdown",
   "metadata": {},
   "source": [
    "Without radial velocity information, there is a $180^\\circ$ degeneracy in the position angle of the ascending node, $\\Omega_2$."
   ]
  },
  {
   "cell_type": "code",
   "execution_count": null,
   "metadata": {},
   "outputs": [],
   "source": [
    "# Sample the orbit \n",
    "\n",
    "with pm.Model() as model:\n",
    "\n",
    "    # A setup for a basic astrometric binary orbit\n",
    "    parallax = 1 # arcsec \n",
    "    a_ang = pm.Uniform(\"a_ang\", 0.1, 1.0, testval=0.324) # arcsec \n",
    "    a = pm.Deterministic(\"a\", a_ang * parallax)\n",
    "        \n",
    "    logP = pm.Uniform(\"logP\", lower=np.log(10 * 365.25), upper=np.log(80 * 365.25), testval=np.log(28.8 * 365.25))\n",
    "    P = pm.Deterministic(\"P\", tt.exp(logP))\n",
    "    \n",
    "    omega = Angle(\"omega\", testval=251.6 * deg - np.pi) # - pi to pi\n",
    "    Omega = Angle(\"Omega\", testval=159.6 * deg) # - pi to pi\n",
    "    \n",
    "    # fit for (Ω + ω) and (Ω - ω)\n",
    "#     Omega_plus_omega = Angle(\"OmegaPlusomega\")\n",
    "#     Omega_minus_omega = Angle(\"OmegaMinusomega\")\n",
    "    \n",
    "#     omega = pm.Deterministic(\"omega\", 0.5 *(Omega_plus_omega - Omega_minus_omega))\n",
    "#     Omega = pm.Deterministic(\"Omega\", 0.5 * (Omega_plus_omega + Omega_minus_omega))\n",
    "    \n",
    "    # orbital phase \n",
    "    phi = Angle(\"phi\", testval=1.605) # - pi to pi\n",
    "    \n",
    "    n = 2 * np.pi * tt.exp(-logP) # radians / day\n",
    "    t_periastron = pm.Deterministic(\"tperi\", (phi + omega) / n) # a reference time for periastron passage\n",
    "#     t_periastron = pm.Normal(\"tperi\", mu=Tstart - astro_jd0, sd=10)\n",
    "    \n",
    "    incl = pm.Uniform(\"incl\", lower=0, upper=np.pi, testval=96.0 * deg) # radians, 0 to 180 degrees\n",
    "    e = pm.Uniform(\"e\", lower=0.0, upper=1.0, testval=0.798)\n",
    "           \n",
    "    orbit = xo.orbits.KeplerianOrbit(a=a, t_periastron=t_periastron, period=P, \n",
    "                                   incl=incl, ecc=e, omega=omega, Omega=Omega)\n",
    "    \n",
    "    rho_model, theta_model = orbit.get_relative_angles(astro_jds - astro_jd0) # the rho, theta model values\n",
    "    \n",
    "    # to account for broadcasting to multiple planets\n",
    "    rho_model = tt.sum(rho_model, axis=-1)\n",
    "    theta_model = tt.sum(theta_model, axis=-1)\n",
    "    \n",
    "    pm.Normal(\"obs_rho\", mu=rho_model, observed=rho_data, sd=rho_err)\n",
    "    pm.Normal(\"obs_theta\", mu=theta_model, observed=theta_data, sd=theta_err)"
   ]
  },
  {
   "cell_type": "code",
   "execution_count": null,
   "metadata": {},
   "outputs": [],
   "source": [
    "model.test_point"
   ]
  },
  {
   "cell_type": "code",
   "execution_count": null,
   "metadata": {},
   "outputs": [],
   "source": [
    "with model:\n",
    "    map_sol = xo.optimize(vars=[phi])\n",
    "#     map_sol = xo.optimize(map_sol, vars=[omega, Omega])"
   ]
  },
  {
   "cell_type": "code",
   "execution_count": null,
   "metadata": {},
   "outputs": [],
   "source": [
    "map_sol[\"phi\"]"
   ]
  },
  {
   "cell_type": "code",
   "execution_count": null,
   "metadata": {},
   "outputs": [],
   "source": [
    "plt.plot(astro_jds, rho_data, \"o\")\n",
    "plt.errorbar(astro_jds, rho_data, yerr=rho_err, ls=\"\")\n",
    "with model:\n",
    "#     plt.plot(astro_jds, xo.eval_in_model(rho_model))\n",
    "    plt.plot(astro_jds, xo.eval_in_model(rho_model, map_sol))"
   ]
  },
  {
   "cell_type": "code",
   "execution_count": null,
   "metadata": {},
   "outputs": [],
   "source": [
    "with model:\n",
    "\n",
    "    plt.plot(astro_jds, (rho_data - xo.eval_in_model(rho_model)) / rho_err, \"o\")\n",
    "    plt.plot(astro_jds, (rho_data - xo.eval_in_model(rho_model, map_sol)) / rho_err, \"o\")"
   ]
  },
  {
   "cell_type": "code",
   "execution_count": null,
   "metadata": {},
   "outputs": [],
   "source": [
    "plt.plot(astro_jds, theta_data, \"o\")\n",
    "plt.errorbar(astro_jds, theta_data, yerr=theta_err, ls=\"\")\n",
    "with model:\n",
    "    plt.plot(astro_jds, xo.eval_in_model(theta_model))\n",
    "    plt.plot(astro_jds, xo.eval_in_model(theta_model, map_sol))"
   ]
  },
  {
   "cell_type": "code",
   "execution_count": null,
   "metadata": {},
   "outputs": [],
   "source": [
    "print(map_sol)"
   ]
  },
  {
   "cell_type": "code",
   "execution_count": null,
   "metadata": {},
   "outputs": [],
   "source": [
    "fig, ax = plt.subplots(nrows=2, sharex=True)\n",
    "# ax[0].plot(t, rho)\n",
    "ax[0].plot(astro_jds, rho_data, \".\")\n",
    "ax[0].errorbar(astro_jds, rho_data, yerr=rho_err, ls=\"\")\n",
    "ax[0].set_ylabel(r'$\\rho\\,$ [\"]')\n",
    "\n",
    "# ax[1].plot(t, theta/deg)\n",
    "ax[1].plot(astro_jds, theta_data/deg, \".\")\n",
    "ax[1].errorbar(astro_jds, theta_data/deg, yerr=theta_err/deg, ls=\"\")\n",
    "ax[1].set_ylabel(r'P.A. [degrees]');\n",
    "\n",
    "\n",
    "with model:    \n",
    "    ax[0].plot(astro_jds, xo.eval_in_model(rho_model, map_sol), \"k\", alpha=0.5)\n",
    "    ax[1].plot(astro_jds, xo.eval_in_model(theta_model, map_sol)/deg, \"k\", alpha=0.5)"
   ]
  },
  {
   "cell_type": "code",
   "execution_count": null,
   "metadata": {},
   "outputs": [],
   "source": [
    "# with model:\n",
    "# #     step = pm.Metropolis()\n",
    "# #     trace = pm.sample(draws=5000, tune=1000, step=step, chains=1)\n",
    "    \n",
    "#     trace = pm.sample(draws=1000, tune=1000, chains=2)\n",
    "    \n",
    "sampler = xo.PyMC3Sampler(start=200, window=100, finish=300)\n",
    "with model:\n",
    "    burnin = sampler.tune(tune=4000, start=model.test_point,\n",
    "                          step_kwargs=dict(target_accept=0.95))\n",
    "    trace = sampler.sample(draws=4000)"
   ]
  },
  {
   "cell_type": "code",
   "execution_count": null,
   "metadata": {},
   "outputs": [],
   "source": [
    "pm.traceplot(trace)"
   ]
  },
  {
   "cell_type": "code",
   "execution_count": null,
   "metadata": {},
   "outputs": [],
   "source": []
  }
 ],
 "metadata": {
  "kernelspec": {
   "display_name": "Python 3",
   "language": "python",
   "name": "python3"
  },
  "language_info": {
   "codemirror_mode": {
    "name": "ipython",
    "version": 3
   },
   "file_extension": ".py",
   "mimetype": "text/x-python",
   "name": "python",
   "nbconvert_exporter": "python",
   "pygments_lexer": "ipython3",
   "version": "3.7.1"
  }
 },
 "nbformat": 4,
 "nbformat_minor": 2
}
