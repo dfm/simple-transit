{
 "cells": [
  {
   "cell_type": "code",
   "execution_count": null,
   "metadata": {},
   "outputs": [],
   "source": [
    "%matplotlib inline"
   ]
  },
  {
   "cell_type": "code",
   "execution_count": null,
   "metadata": {},
   "outputs": [],
   "source": [
    "%run notebook_setup"
   ]
  },
  {
   "cell_type": "code",
   "execution_count": null,
   "metadata": {},
   "outputs": [],
   "source": [
    "import numpy as np\n",
    "import pandas as pd\n",
    "import matplotlib.pyplot as plt\n",
    "from astropy.time import Time\n",
    "from astropy.io import ascii\n",
    "from astropy import units as u\n",
    "from astropy import constants\n",
    "\n",
    "deg = np.pi/180. # radians / degree\n",
    "yr = 365.25 # days / year"
   ]
  },
  {
   "cell_type": "markdown",
   "metadata": {},
   "source": [
    "# Astrometric Orbits with Exoplanet\n",
    "\n",
    "In this tutorial we'll walk through the simplest astrometric example with `exoplanet` and then explain how to build up a more complicated example with parallax measurements, and eventually radial velocity measurements (in the next tutorial, :ref:`astrometric-rv`). For our dataset, we'll use astrometric and radial velocity observations of a binary star system.\n",
    "\n",
    "Astrometric observations usually consist of measurements of the separation and position angle of the secondary star (or directly imaged exoplanet), relative to the primary star as a function of time. The simplest astrometric orbit (in terms of number of parameters), describes the orbit using a semi-major axis `a_ang` measured in *arcseconds*, since the distance to the system is assumed to be unknown. We'll work through this example first, then introduce the extra constraints provided by parallax information.\n",
    "\n",
    "## Data \n",
    "First, let's load and examine the data. We'll use the astrometric measurements of HR 466 (HD 10009) as compiled by [Pourbaix 1998](https://ui.adsabs.harvard.edu/#abs/1998A&AS..131..377P/abstract). The speckle observations are originally from [Hartkopf et al. 1996](https://ui.adsabs.harvard.edu/#abs/1996AJ....111..370H/abstract). "
   ]
  },
  {
   "cell_type": "code",
   "execution_count": null,
   "metadata": {},
   "outputs": [],
   "source": [
    "# grab the formatted data and do some munging\n",
    "dirname = \"https://gist.github.com/iancze/262aba2429cb9aee3fd5b5e1a4582d4d/raw/c5fa5bc39fec90d2cc2e736eed479099e3e598e3/\"\n",
    "\n",
    "astro_data_full = ascii.read(dirname + \"astro.txt\", format=\"csv\", fill_values=[(\".\", '0')])"
   ]
  },
  {
   "cell_type": "code",
   "execution_count": null,
   "metadata": {},
   "outputs": [],
   "source": [
    "# convert UT date to JD\n",
    "astro_dates = Time(astro_data_full[\"date\"].data, format=\"decimalyear\")\n",
    "\n",
    "# Following the Pourbaix et al. 1998 analysis, we'll limit ourselves to the highest quality data\n",
    "# since the raw collection of data outside of these ranges has some ambiguities in swapping \n",
    "# the primary and secondary star\n",
    "ind = (astro_dates.value > 1975.) & (astro_dates.value < 1999.73) \\\n",
    "    & (~astro_data_full[\"rho\"].mask) & (~astro_data_full[\"PA\"].mask) # eliminate entries with no measurements\n",
    "\n",
    "astro_data = astro_data_full[ind]\n",
    "\n",
    "astro_yrs = astro_data[\"date\"]\n",
    "astro_dates.format = 'jd'\n",
    "astro_jds = astro_dates[ind].value"
   ]
  },
  {
   "cell_type": "markdown",
   "metadata": {},
   "source": [
    "Many of these measurements in this heterogeneous dataset do not have reported error measurements. For these, we assume a modest uncertainty of $1^\\circ$ in position angle and $0.01\"$ for the sake of specifying something, but we'll include a jitter term for both of these measurements as well. The scatter in points around the final solution will be a decent guide of what the measurement uncertainties actually were."
   ]
  },
  {
   "cell_type": "code",
   "execution_count": null,
   "metadata": {},
   "outputs": [],
   "source": [
    "astro_data[\"rho_err\"][astro_data[\"rho_err\"].mask == True] = 0.01\n",
    "astro_data[\"PA_err\"][astro_data[\"PA_err\"].mask == True] = 1.0\n",
    "\n",
    "# convert all masked frames to be raw np arrays, since theano has issues with astropy masked columns\n",
    "\n",
    "rho_data = np.ascontiguousarray(astro_data[\"rho\"], dtype=float) # arcsec\n",
    "rho_err = np.ascontiguousarray(astro_data[\"rho_err\"], dtype=float)\n",
    "\n",
    "# the position angle measurements come in degrees in the range [0, 360].\n",
    "# we need to convert this to radians in the range [-pi, pi]\n",
    "theta_data = np.ascontiguousarray(astro_data[\"PA\"] * deg, dtype=float) \n",
    "theta_data[theta_data > np.pi] -= 2 * np.pi\n",
    "\n",
    "theta_err = np.ascontiguousarray(astro_data[\"PA_err\"] * deg) # radians"
   ]
  },
  {
   "cell_type": "markdown",
   "metadata": {},
   "source": [
    "# Astrometric conventions\n",
    "\n",
    "The conventions describing the orientation of the orbits are described in detail in the *exoplanet* paper; we summarize them briefly here. Generally, we follow the conventions from Pourbaix et al. 1998, which are a consistent set conforming to the right-hand-rule and the conventions of the visual binary field, where the ascending node is that where the secondary is *receeding* from the observer (without radial velocity information, there is a $\\pi$ degeneracy in which node is ascending, and so common practice in the literature is to report a value in the range $[0,\\pi]$). The orbital inclination ranges from $[0, \\pi$]. $i = 0$ describes a face-on orbit rotating counter-clockwise on the sky plane, while $i=\\pi$ describes a face-on orbit rotating clockwise on the sky. $i = \\pi/2$ is an edge-on orbit. \n",
    "\n",
    "The observer frame $X$, $Y$, $Z$ is oriented on the sky such that $+Z$ points towards the observer, $X$ is the north axis, and $Y$ is the east axis. *All* angles are measured in radians, and the position angle is returned in the range $[-\\pi, \\pi]$, which is the degrees east of north (be sure to check your data is in this format too!) The radial velocity is still defined such that a positive radial velocity corresponds to motion away from the observer.\n",
    "\n",
    "In an astrometric-only orbit, it is common practice in the field to report $\\omega = \\omega_\\mathrm{secondary}$, whereas with an RV orbit it is generally common practice to report $\\omega = \\omega_\\mathrm{primary}$. The result is that unless the authors specify what they're using, in a joint astrometric-RV orbit there is an ambiguity to which $\\omega$ the authors mean, since $\\omega_\\mathrm{primary} = \\omega_\\mathrm{secondary} + \\pi$. To standardize this across the *exoplanet* package, in all orbits (including astrometric-only) $\\omega = \\omega_\\mathrm{primary}$."
   ]
  },
  {
   "cell_type": "code",
   "execution_count": null,
   "metadata": {},
   "outputs": [],
   "source": [
    "# Make a plot of the astrometric data on the sky\n",
    "# The convention is that North is up and East is left\n",
    "\n",
    "fig, ax = plt.subplots(nrows=1)\n",
    "\n",
    "xs = rho_data * np.cos(theta_data) # X is north\n",
    "ys = rho_data * np.sin(theta_data) # Y is east\n",
    "ax.plot(ys, xs, \".\")\n",
    "ax.set_ylabel(r\"$\\Delta \\delta$ ['']\")\n",
    "ax.set_xlabel(r\"$\\Delta \\alpha \\cos \\delta$ ['']\")\n",
    "ax.invert_xaxis()\n",
    "ax.plot(0,0, \"k*\")\n",
    "ax.set_aspect(\"equal\", \"datalim\")"
   ]
  },
  {
   "cell_type": "markdown",
   "metadata": {},
   "source": [
    "The plot on the sky is helpful to look at, but the \"raw\" measurements are the values of $\\rho$ (separation) and $\\theta$ (also called P.A., position angle) that we listed in our data table, and that the measurement uncertainties live on these values as nice Gaussians. So, to visualize this space more clearly, we can plot $\\rho$ vs. time and P.A. vs. time."
   ]
  },
  {
   "cell_type": "code",
   "execution_count": null,
   "metadata": {},
   "outputs": [],
   "source": [
    "fig, ax = plt.subplots(nrows=2, sharex=True)\n",
    "ax[0].plot(astro_yrs, rho_data, \".\")\n",
    "ax[0].errorbar(astro_yrs, rho_data, yerr=rho_err, ls=\"\")\n",
    "ax[0].set_ylabel(r'$\\rho\\,$ [\"]')\n",
    "\n",
    "ax[1].plot(astro_yrs, theta_data, \".\")\n",
    "ax[1].errorbar(astro_yrs, theta_data, yerr=theta_err, ls=\"\")\n",
    "ax[1].set_ylabel(r'P.A. [radians]');"
   ]
  },
  {
   "cell_type": "markdown",
   "metadata": {},
   "source": [
    "# Fitting the astrometric orbit with *exoplanet*\n",
    "\n",
    "To get started, let's import the relative packages from *exoplanet*, plot up a preliminary orbit from the literature, and then sample to find the best parameters."
   ]
  },
  {
   "cell_type": "code",
   "execution_count": null,
   "metadata": {},
   "outputs": [],
   "source": [
    "# import the relevant packages \n",
    "import pymc3 as pm \n",
    "import theano.tensor as tt\n",
    "\n",
    "import exoplanet as xo\n",
    "import exoplanet.orbits\n",
    "from exoplanet.distributions import Angle"
   ]
  },
  {
   "cell_type": "code",
   "execution_count": null,
   "metadata": {},
   "outputs": [],
   "source": [
    "# Just to get started, let's take a look at the orbit using the best-fit parameters from Pourbaix et al. 1998\n",
    "\n",
    "# Orbital elements from Pourbaix et al. 1998\n",
    "# For the relative astrometric fit, we only need the following parameters\n",
    "a_ang = 0.324 # arcsec\n",
    "parallax = 1 # arcsec (meaningless choice for now)\n",
    "a = a_ang * parallax\n",
    "e = 0.798\n",
    "i = 96.0 * deg # [rad]\n",
    "omega = 251.6 * deg - np.pi # Pourbaix reports omega_2, but we want omega_1\n",
    "Omega = 159.6 * deg \n",
    "P = 28.8 * 365.25 # days\n",
    "\n",
    "T0 = Time(1989.92, format=\"decimalyear\")\n",
    "T0.format = \"jd\"\n",
    "T0 = T0.value # [Julian Date]\n",
    "\n",
    "# n = 2 * np.pi / P\n",
    "# t0 = (phi + w) / n\n",
    "\n",
    "# instantiate the orbit\n",
    "orbit = xo.orbits.KeplerianOrbit(a=a, t_periastron=T0, period=P, incl=i, ecc=e, omega=omega, Omega=Omega)\n",
    "\n",
    "# make a theano function to get stuff from orbit \n",
    "times = tt.vector(\"times\")\n",
    "\n",
    "# pos = orbit.get_relative_position(times) # the X, Y, Z coordinates\n",
    "ang = orbit.get_relative_angles(times) # the rho, theta coordinates\n",
    "\n",
    "# f_pos = theano.function([times], pos)\n",
    "f_ang = theano.function([times], ang)\n",
    "\n",
    "t = np.linspace(T0 - P, T0 + P, num=200) # days\n",
    "\n",
    "# # anoms = f_anom(t)\n",
    "# X, Y, Z = f_pos(t)\n",
    "rho, theta = f_ang(t)"
   ]
  },
  {
   "cell_type": "code",
   "execution_count": null,
   "metadata": {},
   "outputs": [],
   "source": [
    "fig, ax = plt.subplots(nrows=1)\n",
    "\n",
    "# plot the orbit \n",
    "xs = rho * np.cos(theta) # X is north\n",
    "ys = rho * np.sin(theta) # Y is east\n",
    "ax.plot(ys, xs)\n",
    "\n",
    "# plot the data\n",
    "xs = rho_data * np.cos(theta_data) # X is north\n",
    "ys = rho_data * np.sin(theta_data) # Y is east\n",
    "ax.plot(ys, xs, \".\")\n",
    "\n",
    "ax.set_ylabel(r\"$\\Delta \\delta$ ['']\")\n",
    "ax.set_xlabel(r\"$\\Delta \\alpha \\cos \\delta$ ['']\")\n",
    "ax.invert_xaxis()\n",
    "ax.plot(0,0, \"k*\")\n",
    "ax.set_aspect(\"equal\", \"datalim\")"
   ]
  },
  {
   "cell_type": "code",
   "execution_count": null,
   "metadata": {},
   "outputs": [],
   "source": [
    "fig, ax = plt.subplots(nrows=2, sharex=True)\n",
    "ax[0].plot(t, rho)\n",
    "ax[0].plot(astro_jds, rho_data, \".\")\n",
    "ax[0].errorbar(astro_jds, rho_data, yerr=rho_err, ls=\"\")\n",
    "ax[0].set_ylabel(r'$\\rho\\,$ [\"]')\n",
    "\n",
    "ax[1].plot(t, theta)\n",
    "ax[1].plot(astro_jds, theta_data, \".\")\n",
    "ax[1].errorbar(astro_jds, theta_data, yerr=theta_err, ls=\"\")\n",
    "ax[1].set_ylabel(r'P.A. [radians]');"
   ]
  },
  {
   "cell_type": "markdown",
   "metadata": {},
   "source": [
    "## A note on setting the scale of an orbit \n",
    "\n",
    "Orbits in *exoplanet* generally specify the semi-major axis in units of solar radii `R_sun`. For transits and RV orbits, you usually have enough external information (e..g., estimate of stellar mass from spectral type) to put a physical scale onto the orbit. For the most basic of astrometric orbits without parallax information, however, this information can be lacking and thus it makes sense to fit for the semi-major axis in units of `arcseconds`. This can be done by setting a \"fake\" conversion factor of ``1`` between the semi-major axis in arcseconds and the semi-major axis in physical units."
   ]
  },
  {
   "cell_type": "code",
   "execution_count": null,
   "metadata": {},
   "outputs": [],
   "source": [
    "# Set up the model in PyMC3\n",
    "\n",
    "# for predicted orbits\n",
    "t_fine = np.linspace(astro_jds.min(), astro_jds.max(), num=1000)\n",
    "\n",
    "with pm.Model() as model:\n",
    "\n",
    "    # A setup for a basic astrometric binary orbit\n",
    "    # without an actual parallax measurement, we can model the orbit in units of arcseconds\n",
    "    # by providing a fake_parallax and conversion constant\n",
    "    parallax = 1 # solar_radii / arcsec \n",
    "    a_ang = pm.Uniform(\"a_ang\", 0.1, 1.0, testval=0.324) # arcsec \n",
    "    a = pm.Deterministic(\"a\", a_ang * parallax)\n",
    "        \n",
    "    # we expect the period to be somewhere in the range of 25 years, \n",
    "    # so we'll set a broad prior on logP\n",
    "    logP = pm.Uniform(\"logP\", lower=np.log(1 * yr), upper=np.log(100* yr), testval=np.log(28.8 * yr))\n",
    "    P = pm.Deterministic(\"P\", tt.exp(logP))\n",
    "    \n",
    "    omega = Angle(\"omega\", testval=251.6 * deg - np.pi) # - pi to pi\n",
    "    Omega = Angle(\"Omega\", testval=159.6 * deg) # - pi to pi\n",
    "    \n",
    "    t_periastron = pm.Uniform(\"tperi\", T0 - P, T0 + P)\n",
    "    \n",
    "    incl = pm.Uniform(\"incl\", lower=0, upper=np.pi, testval=96.0 * deg) # radians, 0 to 180 degrees\n",
    "    e = pm.Uniform(\"e\", lower=0.0, upper=1.0, testval=0.798)\n",
    "           \n",
    "    orbit = xo.orbits.KeplerianOrbit(a=a, t_periastron=t_periastron, period=P, \n",
    "                                   incl=incl, ecc=e, omega=omega, Omega=Omega)\n",
    "    \n",
    "    rho_model, theta_model = orbit.get_relative_angles(astro_jds) # the rho, theta model values\n",
    "    \n",
    "    # add jitter terms to both separation and position angle\n",
    "    log_rho_s = pm.Normal(\"logRhoS\", mu=np.log(np.median(rho_err)), sd=5.0)\n",
    "    log_theta_s = pm.Normal(\"logThetaS\", mu=np.log(np.median(theta_err)), sd=5.0)\n",
    "    \n",
    "    rho_tot_err = tt.sqrt(rho_err**2 + tt.exp(2*log_rho_s))\n",
    "    theta_tot_err = tt.sqrt(theta_err**2 + tt.exp(2*log_theta_s))\n",
    "    \n",
    "    # define the likelihood function, e.g., a Gaussian on both rho and theta\n",
    "    pm.Normal(\"obs_rho\", mu=rho_model, observed=rho_data, sd=rho_tot_err)\n",
    "    pm.Normal(\"obs_theta\", mu=theta_model, observed=theta_data, sd=theta_tot_err)\n",
    "    \n",
    "    # set up predicted orbits for later plotting \n",
    "    \n",
    "    rho_dense, theta_dense = orbit.get_relative_angles(t_fine)\n",
    "    rho_save = pm.Deterministic(\"rhoSave\", rho_dense)\n",
    "    theta_save = pm.Deterministic(\"thetaSave\", theta_dense)    "
   ]
  },
  {
   "cell_type": "code",
   "execution_count": null,
   "metadata": {},
   "outputs": [],
   "source": [
    "with model:\n",
    "    map_sol = xo.optimize()"
   ]
  },
  {
   "cell_type": "code",
   "execution_count": null,
   "metadata": {},
   "outputs": [],
   "source": [
    "# we can plot the maximum posterior solution to see\n",
    "\n",
    "pkw = {'marker':\".\", \"color\":\"k\", 'ls':\"\"}\n",
    "ekw = {'color':\"C1\", 'ls':\"\"}\n",
    "\n",
    "fig, ax = plt.subplots(nrows=4, sharex=True, figsize=(6,8))\n",
    "ax[0].set_ylabel(r'$\\rho\\,$ [\"]')\n",
    "ax[1].set_ylabel(r'$\\rho$ residuals')\n",
    "ax[2].set_ylabel(r'P.A. [radians]')\n",
    "ax[3].set_ylabel(r'P.A. residuals')\n",
    "\n",
    "with model:\n",
    "    tot_rho_err = np.sqrt(rho_err**2 + np.exp(2 * map_sol[\"logRhoS\"]))\n",
    "    tot_theta_err = np.sqrt(theta_err**2 + np.exp(2 * map_sol[\"logThetaS\"]))\n",
    "        \n",
    "    ax[0].plot(astro_jds, xo.eval_in_model(rho_model, map_sol))\n",
    "    ax[0].plot(astro_jds, rho_data, **pkw)\n",
    "    ax[0].errorbar(astro_jds, rho_data, yerr=tot_rho_err, **ekw)\n",
    "    \n",
    "    ax[1].axhline(0.0, color=\"0.5\")\n",
    "    ax[1].plot(astro_jds, rho_data - xo.eval_in_model(rho_model, map_sol), **pkw)\n",
    "    ax[1].errorbar(astro_jds, rho_data - xo.eval_in_model(rho_model, map_sol), yerr=tot_rho_err, **ekw)\n",
    "    \n",
    "        \n",
    "    ax[2].plot(astro_jds, xo.eval_in_model(theta_model, map_sol))\n",
    "    ax[2].plot(astro_jds, theta_data, **pkw)\n",
    "    ax[2].errorbar(astro_jds, theta_data, yerr=tot_theta_err, **ekw)\n",
    "    \n",
    "    ax[3].axhline(0.0, color=\"0.5\")\n",
    "    ax[3].plot(astro_jds, theta_data - xo.eval_in_model(theta_model, map_sol), **pkw)\n",
    "    ax[3].errorbar(astro_jds, theta_data - xo.eval_in_model(theta_model, map_sol), yerr=tot_theta_err, **ekw)   "
   ]
  },
  {
   "cell_type": "code",
   "execution_count": null,
   "metadata": {},
   "outputs": [],
   "source": [
    "# now let's actually explore the posterior for real\n",
    "sampler = xo.PyMC3Sampler(start=200, window=100, finish=300)\n",
    "with model:\n",
    "    burnin = sampler.tune(tune=4000, start=model.test_point,\n",
    "                          step_kwargs=dict(target_accept=0.95))\n",
    "    trace = sampler.sample(draws=4000)"
   ]
  },
  {
   "cell_type": "code",
   "execution_count": null,
   "metadata": {},
   "outputs": [],
   "source": [
    "pm.traceplot(trace, varnames=[\"a_ang\", \"logP\", \"omega\", \"Omega\", \"e\", \"incl\", \"tperi\"])"
   ]
  },
  {
   "cell_type": "code",
   "execution_count": null,
   "metadata": {},
   "outputs": [],
   "source": [
    "import corner  # https://corner.readthedocs.io\n",
    "\n",
    "samples = pm.trace_to_dataframe(trace, varnames=[\"a\", \"P\", \"omega\", \"Omega\", \"e\", \"incl\", \"tperi\"])\n",
    "corner.corner(samples);"
   ]
  },
  {
   "cell_type": "markdown",
   "metadata": {},
   "source": [
    "Great, it looks like we have a converged posterior, and in a pretty reasonable amount of time too. The semi-major axis and $\\omega$ are quite correlated, which underscores the need for using the tuning schedule.\n",
    "\n",
    "\n",
    "Note that there is also another (degenerate) solution at $\\Omega + \\pi$ and $\\omega + \\pi$ that we've missed, because we initialized the sampler deep in the potential well of our preferred peak. If you really do have an astrometric-only orbit, for this reason it can more efficient to sample in $p = \\Omega + \\omega$ and $m = \\Omega - \\omega$, since these will yield unambiguous constraints on $p$ and $m$, and $\\Omega$ and $\\omega$ can be backed out of them.\n",
    "\n",
    "Let's plot the data with draws of the potential orbit, which we saved during the sampling of the model."
   ]
  },
  {
   "cell_type": "code",
   "execution_count": null,
   "metadata": {},
   "outputs": [],
   "source": [
    "# we can plot the maximum posterior solution to see\n",
    "\n",
    "pkw = {'marker':\".\", \"color\":\"k\", 'ls':\"\"}\n",
    "ekw = {'color':\"C1\", 'ls':\"\"}\n",
    "\n",
    "fig, ax = plt.subplots(nrows=4, sharex=True, figsize=(6,8))\n",
    "ax[0].set_ylabel(r'$\\rho\\,$ [\"]')\n",
    "ax[1].set_ylabel(r'$\\rho$ residuals')\n",
    "ax[2].set_ylabel(r'P.A. [radians]')\n",
    "ax[3].set_ylabel(r'P.A. residuals')\n",
    "\n",
    "# Compute the posterior predictions for the RV model\n",
    "rho_pred = np.percentile(trace[\"rhoSave\"], [16, 50, 84], axis=0)\n",
    "theta_pred = np.percentile(trace[\"thetaSave\"], [16, 50, 84], axis=0)\n",
    "\n",
    "with model:\n",
    "    tot_rho_err = np.sqrt(rho_err**2 + np.exp(2 * map_sol[\"logRhoS\"]))\n",
    "    tot_theta_err = np.sqrt(theta_err**2 + np.exp(2 * map_sol[\"logThetaS\"]))\n",
    "        \n",
    "        \n",
    "    art = ax[0].fill_between(t_fine, rho_pred[0], rho_pred[2], color=\"C0\", alpha=0.3)\n",
    "    art.set_edgecolor(\"none\")\n",
    "\n",
    "    ax[0].plot(astro_jds, rho_data, **pkw)\n",
    "    ax[0].errorbar(astro_jds, rho_data, yerr=tot_rho_err, **ekw)\n",
    "    \n",
    "    ax[1].axhline(0.0, color=\"0.5\")\n",
    "    ax[1].plot(astro_jds, rho_data - xo.eval_in_model(rho_model, map_sol), **pkw)\n",
    "    ax[1].errorbar(astro_jds, rho_data - xo.eval_in_model(rho_model, map_sol), yerr=tot_rho_err, **ekw)\n",
    "    \n",
    "    art = ax[2].fill_between(t_fine, theta_pred[0], theta_pred[2], color=\"C0\", alpha=0.3)\n",
    "    art.set_edgecolor(\"none\")\n",
    "\n",
    "    ax[2].plot(astro_jds, theta_data, **pkw)\n",
    "    ax[2].errorbar(astro_jds, theta_data, yerr=tot_theta_err, **ekw)\n",
    "    \n",
    "    ax[3].axhline(0.0, color=\"0.5\")\n",
    "    ax[3].plot(astro_jds, theta_data - xo.eval_in_model(theta_model, map_sol), **pkw)\n",
    "    ax[3].errorbar(astro_jds, theta_data - xo.eval_in_model(theta_model, map_sol), yerr=tot_theta_err, **ekw) "
   ]
  },
  {
   "cell_type": "markdown",
   "metadata": {},
   "source": [
    "As we can see from the narrow range of orbits (the blue swath appears like a thin blue line), the orbit is actually highly constrained by the astrometry. We also see two clear outlier epochs in the vicinity of 2445000 - 2447000, since adjacent epochs seem to be right on the orbit. It's likely the uncertainties were not estimated correctly for these, and the simlplistic jitter model we implemented isn't sophisticated to apply more weight to only these discrepant points."
   ]
  },
  {
   "cell_type": "markdown",
   "metadata": {},
   "source": [
    "# Orbital fit with parallax\n",
    "\n",
    "While this is encouraging that we fit an astrometric orbit, a simple astrometric fit to just $\\rho$ and $\\theta$ isn't actually that physically satisfying, since many of the orbital parameters simply have to do with the orientation relative to us ($i$, $\\omega$, and $\\Omega$). The only truely intrinsic parameters are $P$ and $e$. To learn more about some of the physical parameters, such as the total mass of the system, we'd like to incorporate distance information to put a physical scale to the problem. \n",
    "\n",
    "The *Gaia* DR2 parallax is $\\varpi = 24.05 \\pm 0.45$ mas.\n"
   ]
  },
  {
   "cell_type": "code",
   "execution_count": null,
   "metadata": {},
   "outputs": [],
   "source": [
    "def calc_Mtot(a, P):\n",
    "    '''\n",
    "    Calculate the total mass of the system using Kepler's third law. \n",
    "    \n",
    "    Args: \n",
    "        a (au) semi-major axis\n",
    "        P (days) period \n",
    "        \n",
    "    Returns:\n",
    "        Mtot (M_sun) total mass of system (M_primary + M_secondary)\n",
    "    '''\n",
    "    \n",
    "    day_to_s = (1 * u.day).to(u.s).value\n",
    "    au_to_m = (1 * u.au).to(u.m).value\n",
    "    kg_to_M_sun = (1 * u.kg).to(u.M_sun).value\n",
    "    \n",
    "    return 4 * np.pi**2 * (a * au_to_m)**3 / (constants.G.value * (P * day_to_s)**2) * kg_to_M_sun"
   ]
  },
  {
   "cell_type": "code",
   "execution_count": null,
   "metadata": {},
   "outputs": [],
   "source": [
    "# Set up the model in PyMC3\n",
    "\n",
    "# conversion constant\n",
    "au_to_R_sun = (constants.au / constants.R_sun).value\n",
    "\n",
    "with pm.Model() as parallax_model:\n",
    "\n",
    "    # A setup for a basic astrometric binary orbit\n",
    "    # We'll include the parallax data as a prior on the parallax value \n",
    "    \n",
    "    parallax = pm.Normal(\"parallax\", mu=24.05, sd=0.45) # milliarcsec \n",
    "    a_ang = pm.Uniform(\"a_ang\", 0.1, 1.0, testval=0.324) # arcsec \n",
    "    \n",
    "    # the distance to the source in parcsecs\n",
    "    dpc = pm.Deterministic(\"dpc\", 1e3 / parallax)\n",
    "    \n",
    "    # the semi-major axis in au\n",
    "    a = pm.Deterministic(\"a\", a_ang * dpc) # au\n",
    "        \n",
    "    # we expect the period to be somewhere in the range of 25 years, \n",
    "    # so we'll set a broad prior on logP\n",
    "    logP = pm.Uniform(\"logP\", lower=np.log(1 * yr), upper=np.log(100* yr), testval=np.log(28.8 * yr))\n",
    "    P = pm.Deterministic(\"P\", tt.exp(logP)) # days\n",
    "    \n",
    "    omega = Angle(\"omega\", testval=251.6 * deg - np.pi) # - pi to pi\n",
    "    Omega = Angle(\"Omega\", testval=159.6 * deg) # - pi to pi\n",
    "    \n",
    "    t_periastron = pm.Uniform(\"tperi\", T0 - P, T0 + P)\n",
    "    \n",
    "    incl = pm.Uniform(\"incl\", lower=0, upper=np.pi, testval=96.0 * deg) # radians, 0 to 180 degrees\n",
    "    e = pm.Uniform(\"e\", lower=0.0, upper=1.0, testval=0.798)\n",
    "           \n",
    "    # now that we have a physical scale defined, we can also calculate the total mass of the system \n",
    "    Mtot = pm.Deterministic(\"Mtot\", calc_Mtot(a, P))\n",
    "        \n",
    "    # n.b. that we include an extra conversion for a, because exoplanet expects a in R_sun\n",
    "    orbit = xo.orbits.KeplerianOrbit(a=a * au_to_R_sun, t_periastron=t_periastron, period=P, \n",
    "                                   incl=incl, ecc=e, omega=omega, Omega=Omega)\n",
    "    \n",
    "    rho_phys, theta_model = orbit.get_relative_angles(astro_jds) # the rho, theta model values\n",
    "    \n",
    "    # because we've specified a physical value for a, a is now actually in units of R_sun\n",
    "    # So, we'll want to convert back to arcsecs \n",
    "    rho_model = (rho_phys / au_to_R_sun) / dpc # arcsec\n",
    "    \n",
    "    # add jitter terms to both separation and position angle\n",
    "    log_rho_s = pm.Normal(\"logRhoS\", mu=np.log(np.median(rho_err)), sd=5.0)\n",
    "    log_theta_s = pm.Normal(\"logThetaS\", mu=np.log(np.median(theta_err)), sd=5.0)\n",
    "    \n",
    "    rho_tot_err = tt.sqrt(rho_err**2 + tt.exp(2*log_rho_s))\n",
    "    theta_tot_err = tt.sqrt(theta_err**2 + tt.exp(2*log_theta_s))\n",
    "    \n",
    "    pm.Normal(\"obs_rho\", mu=rho_model, observed=rho_data, sd=rho_tot_err)\n",
    "    pm.Normal(\"obs_theta\", mu=theta_model, observed=theta_data, sd=theta_tot_err)"
   ]
  },
  {
   "cell_type": "code",
   "execution_count": null,
   "metadata": {},
   "outputs": [],
   "source": [
    "with model:\n",
    "    map_sol = xo.optimize()"
   ]
  },
  {
   "cell_type": "code",
   "execution_count": null,
   "metadata": {},
   "outputs": [],
   "source": [
    "# now let's actually explore the posterior for real\n",
    "sampler = xo.PyMC3Sampler(start=200, window=100, finish=300)\n",
    "with parallax_model:\n",
    "    burnin = sampler.tune(tune=4000, start=model.test_point,\n",
    "                          step_kwargs=dict(target_accept=0.95))\n",
    "    trace = sampler.sample(draws=4000)"
   ]
  },
  {
   "cell_type": "code",
   "execution_count": null,
   "metadata": {},
   "outputs": [],
   "source": [
    "pm.traceplot(trace, varnames=[\"a\", \"logP\", \"omega\", \"Omega\", \"e\", \"incl\", \"tperi\", \"Mtot\"])"
   ]
  },
  {
   "cell_type": "markdown",
   "metadata": {},
   "source": [
    "Cool!"
   ]
  },
  {
   "cell_type": "code",
   "execution_count": null,
   "metadata": {},
   "outputs": [],
   "source": []
  }
 ],
 "metadata": {
  "kernelspec": {
   "display_name": "Python 3",
   "language": "python",
   "name": "python3"
  },
  "language_info": {
   "codemirror_mode": {
    "name": "ipython",
    "version": 3
   },
   "file_extension": ".py",
   "mimetype": "text/x-python",
   "name": "python",
   "nbconvert_exporter": "python",
   "pygments_lexer": "ipython3",
   "version": "3.7.1"
  }
 },
 "nbformat": 4,
 "nbformat_minor": 2
}
