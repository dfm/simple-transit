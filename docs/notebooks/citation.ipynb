{
 "cells": [
  {
   "cell_type": "markdown",
   "metadata": {},
   "source": [
    "# Citing exoplanet & its dependencies"
   ]
  },
  {
   "cell_type": "code",
   "execution_count": null,
   "metadata": {},
   "outputs": [],
   "source": [
    "%run notebook_setup"
   ]
  },
  {
   "cell_type": "markdown",
   "metadata": {},
   "source": [
    "The *exoplanet* package is mostly just glue that connects many other ideas and software.\n",
    "In a situation like this, it can be easy to forget about the important infrastructure upon which our science is built.\n",
    "In order to make sure that you can easily give credit where credit is due, we have tried to make it as painless as possible to work out which citations are expected for a model fit using *exoplanet* by including a :func:`exoplanet.citations.get_citations_for_model` function that introspects the current PyMC3 model and constructs a list of citations for the functions used in that model.\n",
    "\n",
    "For example, you might compute a quadratically limb darkened light curve using `starry` (via the :class:`exoplanet.light_curve.StarryLightCurve` class):"
   ]
  },
  {
   "cell_type": "code",
   "execution_count": null,
   "metadata": {},
   "outputs": [],
   "source": [
    "import pymc3 as pm\n",
    "import exoplanet as xo\n",
    "\n",
    "with pm.Model() as model:\n",
    "    u = xo.distributions.QuadLimbDark(\"u\")\n",
    "    orbit = xo.orbits.KeplerianOrbit(period=10.0)\n",
    "    light_curve = xo.LimbDarkLightCurve(u)\n",
    "    transit = light_curve.get_light_curve(r=0.1, orbit=orbit, t=[0.0, 0.1])\n",
    "\n",
    "    txt, bib = xo.citations.get_citations_for_model()"
   ]
  },
  {
   "cell_type": "markdown",
   "metadata": {},
   "source": [
    "The :func:`exoplanet.citations.get_citations_for_model` function would generate an acknowledgement that cites:\n",
    "\n",
    "* [PyMC3](https://docs.pymc.io/#citing-pymc3): for the inference engine and modeling framework,\n",
    "* [Theano](http://deeplearning.net/software/theano/citation.html): for the numerical infrastructure,\n",
    "* [AstroPy](http://www.astropy.org/acknowledging.html): for units and constants,\n",
    "* [Kipping (2013)](https://arxiv.org/abs/1308.0009): for the reparameterization of the limb darkening parameters for a quadratic law, and\n",
    "* [Luger, et al. (2018)](https://arxiv.org/abs/1810.06559): for the light curve calculation.\n",
    "\n",
    "The first output from :func:`exoplanet.citations.get_citations_for_model` gives the acknowledgement text:"
   ]
  },
  {
   "cell_type": "code",
   "execution_count": null,
   "metadata": {},
   "outputs": [],
   "source": [
    "print(txt)"
   ]
  },
  {
   "cell_type": "markdown",
   "metadata": {},
   "source": [
    "And the second output is a string with BibTeX entries for each of the citations in the acknowledgement text:"
   ]
  },
  {
   "cell_type": "code",
   "execution_count": null,
   "metadata": {},
   "outputs": [],
   "source": [
    "print(bib)"
   ]
  },
  {
   "cell_type": "code",
   "execution_count": null,
   "metadata": {},
   "outputs": [],
   "source": []
  }
 ],
 "metadata": {
  "kernelspec": {
   "display_name": "Python 3",
   "language": "python",
   "name": "python3"
  },
  "language_info": {
   "codemirror_mode": {
    "name": "ipython",
    "version": 3
   },
   "file_extension": ".py",
   "mimetype": "text/x-python",
   "name": "python",
   "nbconvert_exporter": "python",
   "pygments_lexer": "ipython3",
   "version": "3.6.8"
  }
 },
 "nbformat": 4,
 "nbformat_minor": 2
}
