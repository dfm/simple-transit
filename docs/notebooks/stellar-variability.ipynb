{
 "cells": [
  {
   "cell_type": "code",
   "execution_count": null,
   "metadata": {},
   "outputs": [],
   "source": [
    "%matplotlib inline"
   ]
  },
  {
   "cell_type": "markdown",
   "metadata": {},
   "source": [
    "# Gaussian process models for stellar variability"
   ]
  },
  {
   "cell_type": "code",
   "execution_count": null,
   "metadata": {},
   "outputs": [],
   "source": [
    "%run notebook_setup"
   ]
  },
  {
   "cell_type": "markdown",
   "metadata": {},
   "source": [
    "When fitting exoplanets, we also need to fit for the stellar variability and Gaussian Processes (GPs) are often a good descriptive model for this variation.\n",
    "[PyMC3 has support for all sorts of general GP models](https://docs.pymc.io/gp.html), but *exoplanet* includes support for scalable 1D GPs (see :ref:`gp` for more info) that can work with large datasets.\n",
    "In this tutorial, we go through the process of modeling the light curve of a rotating star observed by Kepler using *exoplanet*.\n",
    "\n",
    "First, let's download and plot the data:"
   ]
  },
  {
   "cell_type": "code",
   "execution_count": null,
   "metadata": {},
   "outputs": [],
   "source": [
    "import numpy as np\n",
    "import matplotlib.pyplot as plt\n",
    "from astropy.io import fits\n",
    "\n",
    "url = \"https://archive.stsci.edu/missions/kepler/lightcurves/0058/005809890/kplr005809890-2012179063303_llc.fits\"\n",
    "with fits.open(url) as hdus:\n",
    "    data = hdus[1].data\n",
    "    hdr = hdus[1].header\n",
    "    \n",
    "# Work out the exposure time\n",
    "texp = hdr[\"FRAMETIM\"] * hdr[\"NUM_FRM\"]\n",
    "texp /= 60.0 * 60.0 * 24.0    \n",
    "\n",
    "x = data[\"TIME\"]\n",
    "y = data[\"PDCSAP_FLUX\"]\n",
    "yerr = data[\"PDCSAP_FLUX_ERR\"]\n",
    "m = (data[\"SAP_QUALITY\"] == 0) & np.isfinite(x) & np.isfinite(y)\n",
    "\n",
    "x = np.ascontiguousarray(x[m], dtype=np.float64)\n",
    "y = np.ascontiguousarray(y[m], dtype=np.float64)\n",
    "yerr = np.ascontiguousarray(yerr[m], dtype=np.float64)\n",
    "mu = np.mean(y)\n",
    "y = (y / mu - 1) * 1e3\n",
    "yerr = yerr * 1e3 / mu\n",
    "\n",
    "plt.plot(x, y, \"k\")\n",
    "plt.xlim(x.min(), x.max())\n",
    "plt.xlabel(\"time [days]\")\n",
    "plt.ylabel(\"relative flux [ppt]\")\n",
    "plt.title(\"KIC 5809890\");"
   ]
  },
  {
   "cell_type": "markdown",
   "metadata": {},
   "source": [
    "## A Gaussian process model for stellar variability\n",
    "\n",
    "This looks like the light curve of a rotating star, and [it has been shown](https://arxiv.org/abs/1706.05459) that it is possible to model this variability by using a quasiperiodic Gaussian process.\n",
    "To start with, let's get an estimate of the rotation period using the Lomb-Scargle periodogram:"
   ]
  },
  {
   "cell_type": "code",
   "execution_count": null,
   "metadata": {},
   "outputs": [],
   "source": [
    "import exoplanet as xo\n",
    "\n",
    "results = xo.estimators.lomb_scargle_estimator(\n",
    "    x, y, max_peaks=1, min_period=5.0, max_period=100.0,\n",
    "    samples_per_peak=50)\n",
    "\n",
    "peak = results[\"peaks\"][0]\n",
    "freq, power = results[\"periodogram\"]\n",
    "plt.plot(1/freq, power, \"k\")\n",
    "plt.axvline(peak[\"period\"], color=\"k\", lw=4, alpha=0.3)\n",
    "plt.xlim((1/freq).min(), (1/freq).max())\n",
    "plt.yticks([])\n",
    "plt.xlabel(\"period [days]\")\n",
    "plt.ylabel(\"power\");"
   ]
  },
  {
   "cell_type": "markdown",
   "metadata": {},
   "source": [
    "Now, using this initialization, we can set up the GP model in *exoplanet*.\n",
    "We'll use the :class:`exoplanet.gp.terms.RotationTerm` kernel that is a mixture of two simple harmonic oscillators with periods separated by a factor of two.\n",
    "As you can see from the periodogram above, this might be a good model for this light curve and I've found that it works well in many cases."
   ]
  },
  {
   "cell_type": "code",
   "execution_count": null,
   "metadata": {},
   "outputs": [],
   "source": [
    "import pymc3 as pm\n",
    "import theano.tensor as tt\n",
    "\n",
    "with pm.Model() as model:\n",
    "    \n",
    "    # The mean flux of the time series\n",
    "    mean = pm.Normal(\"mean\", mu=0.0, sd=10.0)\n",
    "    \n",
    "    # A jitter term describing excess white noise\n",
    "    logs2 = pm.Normal(\"logs2\", mu=2*np.log(np.min(yerr)), sd=5.0)\n",
    "    \n",
    "    # The parameters of the RotationTerm kernel\n",
    "    logamp = pm.Normal(\"logamp\", mu=np.log(np.var(y)), sd=5.0)\n",
    "    BoundedNormal = pm.Bound(pm.Normal, lower=0.0, upper=np.log(50))\n",
    "    logperiod = BoundedNormal(\"logperiod\", mu=np.log(peak[\"period\"]), sd=5.0)\n",
    "    logQ0 = pm.Normal(\"logQ0\", mu=1.0, sd=10.0)\n",
    "    logdeltaQ = pm.Normal(\"logdeltaQ\", mu=2.0, sd=10.0)\n",
    "    mix = pm.Uniform(\"mix\", lower=0, upper=1.0)\n",
    "    \n",
    "    # Track the period as a deterministic\n",
    "    period = pm.Deterministic(\"period\", tt.exp(logperiod))\n",
    "    \n",
    "    # Set up the Gaussian Process model\n",
    "    kernel = xo.gp.terms.RotationTerm(\n",
    "        log_amp=logamp,\n",
    "        period=period,\n",
    "        log_Q0=logQ0,\n",
    "        log_deltaQ=logdeltaQ,\n",
    "        mix=mix\n",
    "    )\n",
    "    gp = xo.gp.GP(kernel, x, yerr**2 + tt.exp(logs2), J=4)\n",
    "    \n",
    "    # Compute the Gaussian Process likelihood and add it into the\n",
    "    # the PyMC3 model as a \"potential\"\n",
    "    pm.Potential(\"loglike\", gp.log_likelihood(y - mean))\n",
    "    \n",
    "    # Compute the mean model prediction for plotting purposes\n",
    "    pm.Deterministic(\"pred\", gp.predict())\n",
    "    \n",
    "    # Optimize to find the maximum a posteriori parameters\n",
    "    map_soln = xo.optimize(start=model.test_point)"
   ]
  },
  {
   "cell_type": "markdown",
   "metadata": {},
   "source": [
    "Now that we have the model set up, let's plot the maximum a posteriori model prediction."
   ]
  },
  {
   "cell_type": "code",
   "execution_count": null,
   "metadata": {},
   "outputs": [],
   "source": [
    "plt.plot(x, y, \"k\", label=\"data\")\n",
    "plt.plot(x, map_soln[\"pred\"], color=\"C1\", label=\"model\")\n",
    "plt.xlim(x.min(), x.max())\n",
    "plt.legend(fontsize=10)\n",
    "plt.xlabel(\"time [days]\")\n",
    "plt.ylabel(\"relative flux [ppt]\")\n",
    "plt.title(\"KIC 5809890; map model\");"
   ]
  },
  {
   "cell_type": "markdown",
   "metadata": {},
   "source": [
    "That looks pretty good!\n",
    "Now let's sample from the posterior using a :class:`exoplanet.PyMC3Sampler`."
   ]
  },
  {
   "cell_type": "code",
   "execution_count": null,
   "metadata": {},
   "outputs": [],
   "source": [
    "np.random.seed(42)\n",
    "sampler = xo.PyMC3Sampler(finish=200)\n",
    "with model:\n",
    "    sampler.tune(tune=2000, start=map_soln, step_kwargs=dict(target_accept=0.9))\n",
    "    trace = sampler.sample(draws=2000)"
   ]
  },
  {
   "cell_type": "markdown",
   "metadata": {},
   "source": [
    "Now we can do the usual convergence checks:"
   ]
  },
  {
   "cell_type": "code",
   "execution_count": null,
   "metadata": {},
   "outputs": [],
   "source": [
    "pm.summary(trace, varnames=[\"mix\", \"logdeltaQ\", \"logQ0\", \"logperiod\", \"logamp\", \"logs2\", \"mean\"])"
   ]
  },
  {
   "cell_type": "markdown",
   "metadata": {},
   "source": [
    "And plot the posterior distribution over rotation period:"
   ]
  },
  {
   "cell_type": "code",
   "execution_count": null,
   "metadata": {},
   "outputs": [],
   "source": [
    "period_samples = trace[\"period\"]\n",
    "bins = np.linspace(20, 45, 40)\n",
    "plt.hist(period_samples, bins, histtype=\"step\", color=\"k\")\n",
    "plt.yticks([])\n",
    "plt.xlim(bins.min(), bins.max())\n",
    "plt.xlabel(\"rotation period [days]\")\n",
    "plt.ylabel(\"posterior density\");"
   ]
  },
  {
   "cell_type": "markdown",
   "metadata": {},
   "source": [
    "## Citations\n",
    "\n",
    "As described in the :ref:`citation` tutorial, we can use :func:`exoplanet.citations.get_citations_for_model` to construct an acknowledgement and BibTeX listing that includes the relevant citations for this model."
   ]
  },
  {
   "cell_type": "code",
   "execution_count": null,
   "metadata": {},
   "outputs": [],
   "source": [
    "with model:\n",
    "    txt, bib = xo.citations.get_citations_for_model()\n",
    "print(txt)"
   ]
  },
  {
   "cell_type": "code",
   "execution_count": null,
   "metadata": {},
   "outputs": [],
   "source": [
    "print(\"\\n\".join(bib.splitlines()[:10]) + \"\\n...\")"
   ]
  },
  {
   "cell_type": "code",
   "execution_count": null,
   "metadata": {},
   "outputs": [],
   "source": []
  }
 ],
 "metadata": {
  "kernelspec": {
   "display_name": "Python 3",
   "language": "python",
   "name": "python3"
  },
  "language_info": {
   "codemirror_mode": {
    "name": "ipython",
    "version": 3
   },
   "file_extension": ".py",
   "mimetype": "text/x-python",
   "name": "python",
   "nbconvert_exporter": "python",
   "pygments_lexer": "ipython3",
   "version": "3.6.8"
  }
 },
 "nbformat": 4,
 "nbformat_minor": 2
}
