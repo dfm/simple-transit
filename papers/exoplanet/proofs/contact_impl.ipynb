{
 "cells": [
  {
   "cell_type": "code",
   "execution_count": 1,
   "metadata": {},
   "outputs": [],
   "source": [
    "%matplotlib inline"
   ]
  },
  {
   "cell_type": "code",
   "execution_count": 2,
   "metadata": {},
   "outputs": [],
   "source": [
    "%run proof_setup"
   ]
  },
  {
   "cell_type": "code",
   "execution_count": 3,
   "metadata": {},
   "outputs": [],
   "source": [
    "import numpy as np\n",
    "import sympy as sm"
   ]
  },
  {
   "cell_type": "code",
   "execution_count": 392,
   "metadata": {},
   "outputs": [
    {
     "data": {
      "text/plain": [
       "semimajor**2*(ecc**2 - 1)**2*(cosi**2*(cosw*sin(f) + sinw*cos(f))**2 + (cosw*cos(f) - sinw*sin(f))**2)/(ecc*cos(f) + 1)**2"
      ]
     },
     "execution_count": 392,
     "metadata": {},
     "output_type": "execute_result"
    }
   ],
   "source": [
    "def do_rotation(sinw, cosw, sini, cosi, x, y):\n",
    "    Rw = sm.Matrix([[cosw, -sinw, 0], [sinw, cosw, 0], [0, 0, 1]])\n",
    "    Ri = sm.Matrix([[1, 0, 0], [0, cosi, -sini], [0, sini, cosi]])\n",
    "    v0 = sm.Matrix([[x], [y], [0]])\n",
    "\n",
    "    v2 = Ri * Rw * v0\n",
    "    return sm.simplify(v0), sm.simplify(v2)\n",
    "\n",
    "def get_b2():\n",
    "    semimajor, ecc, sinw, cosw, sini, cosi, f = sm.symbols(\"semimajor, ecc, sinw, cosw, sini, cosi, f\")\n",
    "    \n",
    "    r = -semimajor * (1 - ecc**2) / (1 + ecc * sm.cos(f))\n",
    "    x = r * sm.cos(f)\n",
    "    y = r * sm.sin(f)\n",
    "    \n",
    "    v0, v2 = do_rotation(sinw, cosw, sini, cosi, x, y)\n",
    "    \n",
    "    return sm.simplify(v2[0]**2 + v2[1]**2)\n",
    "\n",
    "get_b2()"
   ]
  },
  {
   "cell_type": "code",
   "execution_count": 443,
   "metadata": {},
   "outputs": [
    {
     "name": "stdout",
     "output_type": "stream",
     "text": [
      "x2 = cosw*x - sinw*y\n",
      "y2 = cosi*(cosw*y + sinw*x)\n",
      "z2 = sini*(cosw*y + sinw*x)\n",
      "\n",
      "a = 1\n",
      "b = 0\n",
      "c = -1/(ecc**2 - 1)\n",
      "d = -2*ecc*semimajor\n",
      "e = 0\n",
      "f = semimajor**2*(ecc**2 - 1)\n",
      "\n",
      "A = cosi**2*sinw**2 + cosw**2\n",
      "B = 2*cosw*sinw*(cosi**2 - 1)\n",
      "C = cosi**2*cosw**2 + sinw**2\n",
      "D = 0\n",
      "E = 0\n",
      "F = -L**2\n",
      "\n",
      "\n",
      "x2 = x\n",
      "y2 = cosi*y\n",
      "z2 = sini*y\n",
      "\n",
      "a = 1\n",
      "b = 0\n",
      "c = 1\n",
      "d = 0\n",
      "e = 0\n",
      "f = -semimajor**2\n",
      "\n",
      "A = 1\n",
      "B = 0\n",
      "C = cosi**2\n",
      "D = 0\n",
      "E = 0\n",
      "F = -L**2\n"
     ]
    }
   ],
   "source": [
    "def get_quadratic_eqs(circular=False):\n",
    "    semimajor, ecc, sinw, cosw, sini, cosi, x, y, L = sm.symbols(\"semimajor, ecc, sinw, cosw, sini, cosi, x, y, L\")\n",
    "    \n",
    "    if circular:\n",
    "        sinw = 0\n",
    "        cosw = 1\n",
    "        ecc = 0\n",
    "    \n",
    "    v0, v2 = do_rotation(sinw, cosw, sini, cosi, x, y)\n",
    "    \n",
    "    print(\"x2 =\", v2[0])\n",
    "    print(\"y2 =\", v2[1])\n",
    "    print(\"z2 =\", v2[2])\n",
    "    print()\n",
    "    \n",
    "    eq1 = sm.poly((v0[0] - semimajor*ecc)**2 + v0[1]**2/(1-ecc**2) - semimajor**2, x, y)\n",
    "    eq2 = sm.poly(v2[0]**2 + v2[1]**2 - L**2, x, y)\n",
    "\n",
    "    print(\"a =\", sm.simplify(eq1.coeff_monomial(x**2)))\n",
    "    print(\"b =\", sm.simplify(eq1.coeff_monomial(x*y)))\n",
    "    print(\"c =\", sm.simplify(eq1.coeff_monomial(y**2)))\n",
    "    print(\"d =\", sm.simplify(eq1.coeff_monomial(x)))\n",
    "    print(\"e =\", sm.simplify(eq1.coeff_monomial(y)))\n",
    "    print(\"f =\", sm.simplify(eq1.coeff_monomial(1)))\n",
    "    print()\n",
    "    print(\"A =\", sm.simplify(eq2.coeff_monomial(x**2)))\n",
    "    print(\"B =\", sm.simplify(eq2.coeff_monomial(x*y)))\n",
    "    print(\"C =\", sm.simplify(eq2.coeff_monomial(y**2)))\n",
    "    print(\"D =\", sm.simplify(eq2.coeff_monomial(x)))\n",
    "    print(\"E =\", sm.simplify(eq2.coeff_monomial(y)))\n",
    "    print(\"F =\", sm.simplify(eq2.coeff_monomial(1)))\n",
    "\n",
    "get_quadratic_eqs()\n",
    "print()\n",
    "print()\n",
    "get_quadratic_eqs(circular=True)"
   ]
  },
  {
   "cell_type": "code",
   "execution_count": 445,
   "metadata": {},
   "outputs": [
    {
     "name": "stdout",
     "output_type": "stream",
     "text": [
      "a0 = C**2*f**2 - 2*C*F*c*f + F**2*c**2\n",
      "a1 = 2*C*d*(C*f - F*c)\n",
      "a2 = -2*A*C*c*f + 2*A*F*c**2 + B**2*c*f + C**2*d**2 + 2*C**2*f - 2*C*F*c\n",
      "a3 = d*(-2*A*C*c + B**2*c + 2*C**2)\n",
      "a4 = A**2*c**2 - 2*A*C*c + B**2*c + C**2\n",
      "\n",
      "\n",
      "a0 = C**2*f**2 - 2*C*F*f + F**2\n",
      "a1 = 0\n",
      "a2 = 2*C**2*f - 2*C*F - 2*C*f + 2*F\n",
      "a3 = 0\n",
      "a4 = C**2 - 2*C + 1\n"
     ]
    }
   ],
   "source": [
    "def get_quartic_expr(circular=False):\n",
    "    a, b, c, d, e, f, g, A, B, C, D, E, F, x = sm.symbols(\"a, b, c, d, e, f, g, A, B, C, D, E, F, x\", real=True)\n",
    "\n",
    "    p0 = c\n",
    "    p1 = b*x + e\n",
    "    p2 = a*x**2 + d*x + f\n",
    "\n",
    "    q0 = C\n",
    "    q1 = B*x + E\n",
    "    q2 = A*x**2 + D*x + F\n",
    "\n",
    "    quartic = sm.Poly((p0*q2 - p2*q0)**2 - (p0*q1 - p1*q0)*(p1*q2 - p2*q1), x)\n",
    "\n",
    "    if circular:\n",
    "        args = {a: 1, b: 0, c:1, d: 0, e: 0, A: 1, B: 0, D: 0, E: 0}\n",
    "    else:\n",
    "        args = {a: 1, b: 0, e: 0, D: 0, E: 0}\n",
    "    \n",
    "    for i in range(5):\n",
    "        print(\"a{0} =\".format(i), sm.simplify(quartic.coeff_monomial(x**i).subs(args)))\n",
    "\n",
    "get_quartic_expr()\n",
    "print()\n",
    "print()\n",
    "get_quartic_expr(circular=True)"
   ]
  },
  {
   "cell_type": "code",
   "execution_count": null,
   "metadata": {},
   "outputs": [],
   "source": []
  },
  {
   "cell_type": "code",
   "execution_count": 435,
   "metadata": {},
   "outputs": [],
   "source": [
    "def discriminant(e, d, c, b, a):\n",
    "    print(8*a*c - 3*b**2)\n",
    "    return 256 * a**3 * e**3 - 192 * a**2 * b * d * e**2 - 128 * a**2 * c**2 * e**2 + 144 * a**2 * c * d**2 * e - 27 * a**2 * d**4 \\\n",
    "        + 144 * a * b**2 * c * e**2 - 6 * a * b**2 * d**2 * e - 80 * a * b * c**2 * d * e + 18 * a * b * c * d**3 + 16 * a * c**4 * e \\\n",
    "        - 4 * a * c**3 * d**2 - 27 * b**4 * e**2 + 18 * b**3 * c * d * e - 4 * b**3 * d**3 - 4 * b**2 * c**3 * e + b**2 * c**2 * d**2\n",
    "\n",
    "\n",
    "def find_roots(semimajor, ecc, omega, incl, Ls, tol=1e-6):\n",
    "    Ls = np.atleast_1d(Ls) / semimajor\n",
    "    \n",
    "    Efactor = np.sqrt((1 - ecc) / (1 + ecc))\n",
    "    ome2 = 1 - ecc**2\n",
    "    sinw = np.sin(omega)\n",
    "    cosw = np.cos(omega)\n",
    "    sin2w = sinw*sinw\n",
    "    cos2w = cosw*cosw\n",
    "    sini = np.sin(incl)\n",
    "    cosi = np.cos(incl)\n",
    "    cos2i = cosi * cosi\n",
    "\n",
    "    f0 = 2 * np.arctan2(cosw, 1 + sinw)\n",
    "    \n",
    "    a = 1\n",
    "    b = 0\n",
    "    c = 1 / ome2\n",
    "    d = -2*ecc\n",
    "    e = 0\n",
    "    f = -ome2\n",
    "\n",
    "    A = cos2i*sin2w + cos2w\n",
    "    B = 2*cosw*sinw*(cos2i - 1)\n",
    "    C = cos2i*cos2w + sin2w\n",
    "    D = 0\n",
    "    E = 0\n",
    "        \n",
    "    results = []\n",
    "    M_results = []\n",
    "    polys = []\n",
    "    for L in Ls:\n",
    "        F = -L*L\n",
    "        \n",
    "        a0 = C**2*f**2 - 2*C*F*c*f + F**2*c**2\n",
    "        a1 = 2*C*d*(C*f - F*c)\n",
    "        a2 = -2*A*C*c*f + 2*A*F*c**2 + B**2*c*f + C**2*d**2 + 2*C**2*f - 2*C*F*c\n",
    "        a3 = d*(-2*A*C*c + B**2*c + 2*C**2)\n",
    "        a4 = A**2*c**2 - 2*A*C*c + B**2*c + C**2\n",
    "                \n",
    "        polys.append([a4, a3, a2, a1, a0])\n",
    "        poly = np.polynomial.Polynomial([a0, a1, a2, a3, a4])\n",
    "                \n",
    "        comp = np.eye(4, k=-1)\n",
    "        comp[0, -1] = -a0 / a4\n",
    "        comp[1, -1] = -a1 / a4\n",
    "        comp[2, -1] = -a2 / a4\n",
    "        comp[3, -1] = -a3 / a4\n",
    "        roots = np.linalg.eigvals(comp)\n",
    "\n",
    "        # Only select real roots\n",
    "        roots = np.real(roots[np.abs(np.imag(roots)) < tol])\n",
    "        \n",
    "        angles = []\n",
    "        for x in roots:\n",
    "            y2 = (1 - (x - ecc)**2) * ome2\n",
    "            if y2 < 0.0:\n",
    "                continue\n",
    "            \n",
    "            absy = np.sqrt(y2)\n",
    "            for sgn in [-1, 1]:\n",
    "                y = sgn * absy\n",
    "                x2 = cosw*x - sinw*y\n",
    "                y2 = cosi*(cosw*y + sinw*x)\n",
    "                z2 = sini*(cosw*y + sinw*x)\n",
    "\n",
    "                b2 = x2*x2 + y2*y2\n",
    "                if np.abs(b2 - L**2) < tol and z2 < 0:\n",
    "                    angle = np.arctan2(y, x) - np.pi\n",
    "                    if angle < -np.pi:\n",
    "                        angle += 2*np.pi\n",
    "                    angles.append(angle - f0)\n",
    "        \n",
    "        # Deal with multiple roots\n",
    "        angles = np.array(angles)\n",
    "        angles.sort()\n",
    "        delta = np.append(True, np.diff(angles))\n",
    "        angles = angles[delta > tol]\n",
    "                \n",
    "        # Wrap the roots properly to span the transit\n",
    "        if len(angles) == 2:\n",
    "            if np.all(angles > 0):\n",
    "                angles = np.array([angles[1] - 2*np.pi, angles[0]])\n",
    "            if np.all(angles < 0):\n",
    "                angles = np.array([angles[1], angles[0] + 2*np.pi])\n",
    "        else:\n",
    "            angles = np.array([-np.pi, np.pi])\n",
    "        \n",
    "        # Convert to mean anomaly\n",
    "        E = 2 * np.arctan(Efactor * np.tan(0.5*(angles + f0)))\n",
    "        M = E - ecc * np.sin(E)\n",
    "\n",
    "        results.append(angles)\n",
    "        M_results.append(M)\n",
    "\n",
    "    return polys, results, M_results\n",
    "\n",
    "semimajor = 100.0\n",
    "ecc = 0.3\n",
    "omega = 0.1\n",
    "incl = 0.5*np.pi\n",
    "L = [1.2, 1.0]\n",
    "polys, roots, Ms = find_roots(semimajor, ecc, omega, incl, L)"
   ]
  },
  {
   "cell_type": "code",
   "execution_count": 436,
   "metadata": {},
   "outputs": [
    {
     "data": {
      "text/plain": [
       "(array([0.8845251 , 0.88637764, 0.90490201, 0.90675455]),\n",
       " array([0.88452506, 0.8863776 , 0.90490204, 0.90675455]))"
      ]
     },
     "execution_count": 436,
     "metadata": {},
     "output_type": "execute_result"
    }
   ],
   "source": [
    "np.sort(np.array(Ms).flatten()), np.array([0.88452506, 0.8863776, 0.90490204, 0.90675455])"
   ]
  },
  {
   "cell_type": "code",
   "execution_count": 439,
   "metadata": {},
   "outputs": [
    {
     "name": "stdout",
     "output_type": "stream",
     "text": [
      "1.4399999999999376\n",
      "1.4399999999999948\n",
      "1.0000000000000664\n",
      "1.000000000000074\n"
     ]
    },
    {
     "data": {
      "text/plain": [
       "(-0.1, 0.1)"
      ]
     },
     "execution_count": 439,
     "metadata": {},
     "output_type": "execute_result"
    },
    {
     "data": {
      "image/png": "[encoded data removed]",
      "text/plain": [
       "<Figure size 600x400 with 1 Axes>"
      ]
     },
     "metadata": {
      "image/png": {
       "height": 354,
       "width": 544
      },
      "needs_background": "light"
     },
     "output_type": "display_data"
    }
   ],
   "source": [
    "f = np.linspace(-np.pi, np.pi, 10000)\n",
    "\n",
    "sinw = np.sin(omega)\n",
    "cosw = np.cos(omega)\n",
    "sini = np.sin(incl)\n",
    "cosi = np.cos(incl)\n",
    "f0 = 2*np.arctan2(cosw, 1 + sinw)\n",
    "\n",
    "b2 = lambda f: semimajor**2*(ecc**2 - 1)**2*(cosi**2*(cosw*np.sin(f) + sinw*np.cos(f))**2 + (cosw*np.cos(f) - sinw*np.sin(f))**2)/(ecc*np.cos(f) + 1)**2\n",
    "b2_old = lambda f: semimajor**2*(ecc**2 - 1)**2 * (np.sin(f - f0)**2 + np.cos(f - f0)**2 * cosi**2) / (1 - ecc * np.sin(f - f0 - omega))**2\n",
    "\n",
    "for i in range(len(L)):\n",
    "    for r in roots[i]:\n",
    "        print(b2(r + f0))\n",
    "    \n",
    "    plt.plot(f - f0, np.log(np.abs(b2(f) - L[i]**2)))\n",
    "    plt.plot(f - f0, np.log(np.abs(b2_old(f) - L[i]**2)), \"--\")\n",
    "    [plt.axvline(r, color=\"k\", lw=0.5) for r in roots[i]]\n",
    "    \n",
    "plt.axvline(0, color=\"k\", alpha=0.3, lw=1)\n",
    "plt.xlim(-0.1, 0.1)"
   ]
  },
  {
   "cell_type": "code",
   "execution_count": null,
   "metadata": {},
   "outputs": [],
   "source": []
  },
  {
   "cell_type": "code",
   "execution_count": 442,
   "metadata": {},
   "outputs": [
    {
     "data": {
      "text/plain": [
       "-0.013635817148505591"
      ]
     },
     "execution_count": 442,
     "metadata": {},
     "output_type": "execute_result"
    }
   ],
   "source": [
    "roots[0].flat[0]"
   ]
  },
  {
   "cell_type": "code",
   "execution_count": null,
   "metadata": {},
   "outputs": [],
   "source": []
  }
 ],
 "metadata": {
  "kernelspec": {
   "display_name": "Python 3",
   "language": "python",
   "name": "python3"
  },
  "language_info": {
   "codemirror_mode": {
    "name": "ipython",
    "version": 3
   },
   "file_extension": ".py",
   "mimetype": "text/x-python",
   "name": "python",
   "nbconvert_exporter": "python",
   "pygments_lexer": "ipython3",
   "version": "3.7.2"
  }
 },
 "nbformat": 4,
 "nbformat_minor": 2
}
